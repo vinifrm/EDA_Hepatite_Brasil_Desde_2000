{
 "cells": [
  {
   "cell_type": "markdown",
   "metadata": {
    "heading_collapsed": true
   },
   "source": [
    "# 0.0 RESUMO"
   ]
  },
  {
   "cell_type": "markdown",
   "metadata": {
    "hidden": true
   },
   "source": [
    "## 0.1 - Introdução"
   ]
  },
  {
   "cell_type": "markdown",
   "metadata": {
    "hidden": true
   },
   "source": [
    "##### As **hepatites** virais são um grave problema de saúde pública no Brasil e no mundo. É uma infecção que atinge o fígado, causando alterações leves, moderadas ou graves. Na maioria das vezes são infecções silenciosas, ou seja, não apresentam sintomas. Entretanto, quando presentes, podem se manifestar como: cansaço, febre, mal-estar, tontura, enjoo, vômitos, dor abdominal, pele e olhos amarelados, urina escura e fezes claras.\n",
    "##### No Brasil, as hepatites virais mais comuns são causadas pelos vírus A, B e C. Existem ainda, com menor frequência, o vírus da hepatite D (mais comum na região Norte do país) e o vírus da hepatite E, que é menos frequente no Brasil, sendo encontrado com maior facilidade na África e na Ásia. \n",
    "##### As infecções causadas pelos vírus das hepatites B ou C frequentemente se tornam crônicas. Contudo, por nem sempre apresentarem sintomas, grande parte das pessoas desconhecem ter a infecção. Isso faz com que a doença possa evoluir por décadas sem o devido diagnóstico. O avanço da infecção compromete o fígado sendo causa de fibrose avançada ou de cirrose, que podem levar ao desenvolvimento de câncer e necessidade de transplante do órgão. \n",
    "##### O impacto dessas infecções acarreta em aproximadamente 1,4 milhões de mortes anualmente no mundo, seja por infecção aguda, câncer hepático ou cirrose associada as hepatites. A taxa de mortalidade da hepatite C, por exemplo, pode ser comparada ao HIV e tuberculose.\n",
    "##### Atualmente há vacinas contra a hepatite A e hepatite B. Contudo, apesar de não ter vacina contra a hepatite C, é imprescindível que as pessoas portadoras do vírus da hepatite C sejam vacinadas contra a hepatite A e hepatite B para evitar possíveis complicações, com cirrose com necessidade de transplante hepático, em alguns casos, ou câncer no fígado, por exemplo.\n",
    "##### Inicialmente, em nossas análises, faremos um passeio sobre os dados de todas as doses de imunos aplicadas no país em 2018, para que possamos ter uma noção de quanta atenção cada estado recebeu em relação às mesmas. Após essa verificação inicial, iremos nos ater às vacinas dadas contra as hepatites virais e descobrir se a quantidade de casos ocorridos em cada região no mesmo ano possui ligação com o número de vacinações também em cada região."
   ]
  },
  {
   "cell_type": "markdown",
   "metadata": {
    "heading_collapsed": true,
    "hidden": true
   },
   "source": [
    "## 0.2 - Fontes / Links"
   ]
  },
  {
   "cell_type": "markdown",
   "metadata": {
    "hidden": true
   },
   "source": [
    "* **IMUNIZAÇÕES** - COBERTURA - BRASIL - http://tabnet.datasus.gov.br/cgi/tabcgi.exe?pni/cnv/cpniuf.def\n",
    "\n",
    "* **HEPATITES VIRAIS** - CASOS CONFIRMADOS POR UF DE RESIDÊNCIA NOTIFICADOS NO SISTEMA DE INFORMAÇÃO DE AGRAVOS DE NOTIFICAÇÃO - BRASIL - http://tabnet.datasus.gov.br/cgi/tabcgi.exe?sinannet/cnv/hepabr.def\n",
    "\n",
    "* **Hepatites virais** - https://www.saude.pr.gov.br/Pagina/Hepatites-virais#\n",
    "\n",
    "* **Entendendo mais sobre a hepatite: causas, tipos e prevenção** - https://protegervacinas.com.br/blog/entendendo-mais-sobre-a-hepatite-causas-tipos-e-prevencao/\n",
    "\n",
    "* **Hepatite C** - https://www.tuasaude.com/vacina-para-hepatite-c/\n",
    "\n",
    "* **Dados das Regiões do país** - https://pt.wikipedia.org/wiki/Regi%C3%B5es_do_Brasil"
   ]
  },
  {
   "cell_type": "markdown",
   "metadata": {
    "heading_collapsed": true
   },
   "source": [
    "# 1.0 - CARREGAMENTOS, IMPORTS, FUNÇÕES E DADOS AUXILIARES"
   ]
  },
  {
   "cell_type": "markdown",
   "metadata": {
    "hidden": true
   },
   "source": [
    "## 1.1 - Importação de módulos"
   ]
  },
  {
   "cell_type": "code",
   "execution_count": 656,
   "metadata": {
    "hidden": true
   },
   "outputs": [],
   "source": [
    "import pandas as pd\n",
    "import numpy as np\n",
    "import matplotlib.pyplot as plt\n",
    "import seaborn as sns\n",
    "import matplotlib.ticker as ticker\n",
    "import warnings\n",
    "warnings.filterwarnings('ignore')"
   ]
  },
  {
   "cell_type": "markdown",
   "metadata": {
    "hidden": true
   },
   "source": [
    "## 1.2 - Carregamento dos dados"
   ]
  },
  {
   "cell_type": "code",
   "execution_count": 657,
   "metadata": {
    "hidden": true
   },
   "outputs": [],
   "source": [
    "vacinas = pd.read_csv('dados/Doses Cáculos CV por UF e Imuno em 2018.csv', encoding = 'ISO-8859-1', sep = ';',\n",
    "                   skiprows=3, skipfooter=19)\n",
    "casos_hepatite = pd.read_csv('dados/Hepatites Virais Brasil 2018.csv', encoding = 'ISO-8859-1', \n",
    "                             sep = ';', skiprows = 3, skipfooter = 19)\n",
    "populacao = pd.read_excel('dados/Estimativas populacao 2018.xls', skiprows=1, \n",
    "                         usecols= [0,2], skipfooter=6)"
   ]
  },
  {
   "cell_type": "code",
   "execution_count": 658,
   "metadata": {
    "hidden": true
   },
   "outputs": [
    {
     "data": {
      "text/html": [
       "<div>\n",
       "<style scoped>\n",
       "    .dataframe tbody tr th:only-of-type {\n",
       "        vertical-align: middle;\n",
       "    }\n",
       "\n",
       "    .dataframe tbody tr th {\n",
       "        vertical-align: top;\n",
       "    }\n",
       "\n",
       "    .dataframe thead th {\n",
       "        text-align: right;\n",
       "    }\n",
       "</style>\n",
       "<table border=\"1\" class=\"dataframe\">\n",
       "  <thead>\n",
       "    <tr style=\"text-align: right;\">\n",
       "      <th></th>\n",
       "      <th>Unidade da Federação</th>\n",
       "      <th>072 BCG</th>\n",
       "      <th>099 Hepatite B  em crianças até 30 dias</th>\n",
       "      <th>061 Rotavírus Humano</th>\n",
       "      <th>053 Meningococo C</th>\n",
       "      <th>073 Hepatite B</th>\n",
       "      <th>080 Penta</th>\n",
       "      <th>012 Pneumocócica</th>\n",
       "      <th>074 Poliomielite</th>\n",
       "      <th>100 Poliomielite 4 anos</th>\n",
       "      <th>...</th>\n",
       "      <th>021 Tríplice Viral  D1</th>\n",
       "      <th>098 Tríplice Viral  D2</th>\n",
       "      <th>097 Tetra Viral(SRC+VZ)</th>\n",
       "      <th>075 DTP</th>\n",
       "      <th>102 DTP REF (4 e 6 anos)</th>\n",
       "      <th>103 Dupla Adulto (dt)</th>\n",
       "      <th>095 Tríplice Bacteriana(DTP)(1º ref)</th>\n",
       "      <th>094 Dupla adulto e tríplice acelular gestante</th>\n",
       "      <th>003 dTpa gestante</th>\n",
       "      <th>Total</th>\n",
       "    </tr>\n",
       "  </thead>\n",
       "  <tbody>\n",
       "    <tr>\n",
       "      <th>0</th>\n",
       "      <td>11 Rondônia</td>\n",
       "      <td>24805</td>\n",
       "      <td>24267</td>\n",
       "      <td>25652</td>\n",
       "      <td>26528</td>\n",
       "      <td>26870</td>\n",
       "      <td>26529</td>\n",
       "      <td>27399</td>\n",
       "      <td>27046</td>\n",
       "      <td>2</td>\n",
       "      <td>...</td>\n",
       "      <td>27117</td>\n",
       "      <td>21106</td>\n",
       "      <td>14275</td>\n",
       "      <td>26553</td>\n",
       "      <td>1127</td>\n",
       "      <td>73143</td>\n",
       "      <td>18928</td>\n",
       "      <td>12836</td>\n",
       "      <td>16474</td>\n",
       "      <td>533293</td>\n",
       "    </tr>\n",
       "    <tr>\n",
       "      <th>1</th>\n",
       "      <td>12 Acre</td>\n",
       "      <td>15839</td>\n",
       "      <td>14836</td>\n",
       "      <td>12926</td>\n",
       "      <td>11899</td>\n",
       "      <td>11003</td>\n",
       "      <td>10962</td>\n",
       "      <td>14016</td>\n",
       "      <td>12207</td>\n",
       "      <td>-</td>\n",
       "      <td>...</td>\n",
       "      <td>13051</td>\n",
       "      <td>11337</td>\n",
       "      <td>9317</td>\n",
       "      <td>10979</td>\n",
       "      <td>822</td>\n",
       "      <td>26056</td>\n",
       "      <td>9905</td>\n",
       "      <td>7208</td>\n",
       "      <td>9854</td>\n",
       "      <td>255893</td>\n",
       "    </tr>\n",
       "  </tbody>\n",
       "</table>\n",
       "<p>2 rows × 25 columns</p>\n",
       "</div>"
      ],
      "text/plain": [
       "  Unidade da Federação  072 BCG  099 Hepatite B  em crianças até 30 dias  \\\n",
       "0          11 Rondônia    24805                                    24267   \n",
       "1              12 Acre    15839                                    14836   \n",
       "\n",
       "   061 Rotavírus Humano  053 Meningococo C  073 Hepatite B  080 Penta  \\\n",
       "0                 25652              26528           26870      26529   \n",
       "1                 12926              11899           11003      10962   \n",
       "\n",
       "   012 Pneumocócica  074 Poliomielite 100 Poliomielite 4 anos   ...    \\\n",
       "0             27399             27046                       2   ...     \n",
       "1             14016             12207                       -   ...     \n",
       "\n",
       "   021 Tríplice Viral  D1  098 Tríplice Viral  D2  097 Tetra Viral(SRC+VZ)  \\\n",
       "0                   27117                   21106                    14275   \n",
       "1                   13051                   11337                     9317   \n",
       "\n",
       "   075 DTP  102 DTP REF (4 e 6 anos)  103 Dupla Adulto (dt)  \\\n",
       "0    26553                      1127                  73143   \n",
       "1    10979                       822                  26056   \n",
       "\n",
       "   095 Tríplice Bacteriana(DTP)(1º ref)  \\\n",
       "0                                 18928   \n",
       "1                                  9905   \n",
       "\n",
       "   094 Dupla adulto e tríplice acelular gestante  003 dTpa gestante   Total  \n",
       "0                                          12836              16474  533293  \n",
       "1                                           7208               9854  255893  \n",
       "\n",
       "[2 rows x 25 columns]"
      ]
     },
     "execution_count": 658,
     "metadata": {},
     "output_type": "execute_result"
    }
   ],
   "source": [
    "vacinas.head(2)"
   ]
  },
  {
   "cell_type": "code",
   "execution_count": 659,
   "metadata": {
    "hidden": true
   },
   "outputs": [
    {
     "data": {
      "text/html": [
       "<div>\n",
       "<style scoped>\n",
       "    .dataframe tbody tr th:only-of-type {\n",
       "        vertical-align: middle;\n",
       "    }\n",
       "\n",
       "    .dataframe tbody tr th {\n",
       "        vertical-align: top;\n",
       "    }\n",
       "\n",
       "    .dataframe thead th {\n",
       "        text-align: right;\n",
       "    }\n",
       "</style>\n",
       "<table border=\"1\" class=\"dataframe\">\n",
       "  <thead>\n",
       "    <tr style=\"text-align: right;\">\n",
       "      <th></th>\n",
       "      <th>UF de residência</th>\n",
       "      <th>RO</th>\n",
       "      <th>AC</th>\n",
       "      <th>AM</th>\n",
       "      <th>RR</th>\n",
       "      <th>PA</th>\n",
       "      <th>AP</th>\n",
       "      <th>TO</th>\n",
       "      <th>MA</th>\n",
       "      <th>PI</th>\n",
       "      <th>...</th>\n",
       "      <th>RJ</th>\n",
       "      <th>SP</th>\n",
       "      <th>PR</th>\n",
       "      <th>SC</th>\n",
       "      <th>RS</th>\n",
       "      <th>MS</th>\n",
       "      <th>MT</th>\n",
       "      <th>GO</th>\n",
       "      <th>DF</th>\n",
       "      <th>Total</th>\n",
       "    </tr>\n",
       "  </thead>\n",
       "  <tbody>\n",
       "    <tr>\n",
       "      <th>23</th>\n",
       "      <td>50 Mato Grosso do Sul</td>\n",
       "      <td>-</td>\n",
       "      <td>-</td>\n",
       "      <td>-</td>\n",
       "      <td>-</td>\n",
       "      <td>-</td>\n",
       "      <td>-</td>\n",
       "      <td>-</td>\n",
       "      <td>-</td>\n",
       "      <td>-</td>\n",
       "      <td>...</td>\n",
       "      <td>-</td>\n",
       "      <td>-</td>\n",
       "      <td>-</td>\n",
       "      <td>-</td>\n",
       "      <td>-</td>\n",
       "      <td>469</td>\n",
       "      <td>-</td>\n",
       "      <td>-</td>\n",
       "      <td>-</td>\n",
       "      <td>469</td>\n",
       "    </tr>\n",
       "    <tr>\n",
       "      <th>24</th>\n",
       "      <td>51 Mato Grosso</td>\n",
       "      <td>-</td>\n",
       "      <td>-</td>\n",
       "      <td>-</td>\n",
       "      <td>-</td>\n",
       "      <td>-</td>\n",
       "      <td>-</td>\n",
       "      <td>-</td>\n",
       "      <td>-</td>\n",
       "      <td>-</td>\n",
       "      <td>...</td>\n",
       "      <td>-</td>\n",
       "      <td>-</td>\n",
       "      <td>-</td>\n",
       "      <td>-</td>\n",
       "      <td>-</td>\n",
       "      <td>-</td>\n",
       "      <td>720</td>\n",
       "      <td>-</td>\n",
       "      <td>-</td>\n",
       "      <td>720</td>\n",
       "    </tr>\n",
       "    <tr>\n",
       "      <th>25</th>\n",
       "      <td>52 Goiás</td>\n",
       "      <td>-</td>\n",
       "      <td>-</td>\n",
       "      <td>-</td>\n",
       "      <td>-</td>\n",
       "      <td>-</td>\n",
       "      <td>-</td>\n",
       "      <td>-</td>\n",
       "      <td>-</td>\n",
       "      <td>-</td>\n",
       "      <td>...</td>\n",
       "      <td>-</td>\n",
       "      <td>-</td>\n",
       "      <td>-</td>\n",
       "      <td>-</td>\n",
       "      <td>-</td>\n",
       "      <td>-</td>\n",
       "      <td>-</td>\n",
       "      <td>808</td>\n",
       "      <td>-</td>\n",
       "      <td>808</td>\n",
       "    </tr>\n",
       "    <tr>\n",
       "      <th>26</th>\n",
       "      <td>53 Distrito Federal</td>\n",
       "      <td>-</td>\n",
       "      <td>-</td>\n",
       "      <td>-</td>\n",
       "      <td>-</td>\n",
       "      <td>-</td>\n",
       "      <td>-</td>\n",
       "      <td>-</td>\n",
       "      <td>-</td>\n",
       "      <td>-</td>\n",
       "      <td>...</td>\n",
       "      <td>-</td>\n",
       "      <td>-</td>\n",
       "      <td>-</td>\n",
       "      <td>-</td>\n",
       "      <td>-</td>\n",
       "      <td>-</td>\n",
       "      <td>-</td>\n",
       "      <td>-</td>\n",
       "      <td>270</td>\n",
       "      <td>270</td>\n",
       "    </tr>\n",
       "    <tr>\n",
       "      <th>27</th>\n",
       "      <td>Total</td>\n",
       "      <td>780</td>\n",
       "      <td>594</td>\n",
       "      <td>1114</td>\n",
       "      <td>177</td>\n",
       "      <td>623</td>\n",
       "      <td>94</td>\n",
       "      <td>196</td>\n",
       "      <td>563</td>\n",
       "      <td>188</td>\n",
       "      <td>...</td>\n",
       "      <td>2600</td>\n",
       "      <td>10840</td>\n",
       "      <td>3176</td>\n",
       "      <td>2433</td>\n",
       "      <td>6442</td>\n",
       "      <td>469</td>\n",
       "      <td>720</td>\n",
       "      <td>808</td>\n",
       "      <td>270</td>\n",
       "      <td>38887</td>\n",
       "    </tr>\n",
       "  </tbody>\n",
       "</table>\n",
       "<p>5 rows × 29 columns</p>\n",
       "</div>"
      ],
      "text/plain": [
       "         UF de residência   RO   AC    AM   RR   PA  AP   TO   MA   PI  ...    \\\n",
       "23  50 Mato Grosso do Sul    -    -     -    -    -   -    -    -    -  ...     \n",
       "24         51 Mato Grosso    -    -     -    -    -   -    -    -    -  ...     \n",
       "25               52 Goiás    -    -     -    -    -   -    -    -    -  ...     \n",
       "26    53 Distrito Federal    -    -     -    -    -   -    -    -    -  ...     \n",
       "27                  Total  780  594  1114  177  623  94  196  563  188  ...     \n",
       "\n",
       "      RJ     SP    PR    SC    RS   MS   MT   GO   DF  Total  \n",
       "23     -      -     -     -     -  469    -    -    -    469  \n",
       "24     -      -     -     -     -    -  720    -    -    720  \n",
       "25     -      -     -     -     -    -    -  808    -    808  \n",
       "26     -      -     -     -     -    -    -    -  270    270  \n",
       "27  2600  10840  3176  2433  6442  469  720  808  270  38887  \n",
       "\n",
       "[5 rows x 29 columns]"
      ]
     },
     "execution_count": 659,
     "metadata": {},
     "output_type": "execute_result"
    }
   ],
   "source": [
    "# podemos perceber que há apenas 2 colunas que nos interessam: \"UF de residência\" e \"Total\".\n",
    "casos_hepatite.tail(5)"
   ]
  },
  {
   "cell_type": "code",
   "execution_count": 660,
   "metadata": {
    "hidden": true
   },
   "outputs": [
    {
     "data": {
      "text/html": [
       "<div>\n",
       "<style scoped>\n",
       "    .dataframe tbody tr th:only-of-type {\n",
       "        vertical-align: middle;\n",
       "    }\n",
       "\n",
       "    .dataframe tbody tr th {\n",
       "        vertical-align: top;\n",
       "    }\n",
       "\n",
       "    .dataframe thead th {\n",
       "        text-align: right;\n",
       "    }\n",
       "</style>\n",
       "<table border=\"1\" class=\"dataframe\">\n",
       "  <thead>\n",
       "    <tr style=\"text-align: right;\">\n",
       "      <th></th>\n",
       "      <th>BRASIL E UNIDADES DA FEDERAÇÃO</th>\n",
       "      <th>POPULAÇÃO ESTIMADA</th>\n",
       "    </tr>\n",
       "  </thead>\n",
       "  <tbody>\n",
       "    <tr>\n",
       "      <th>23</th>\n",
       "      <td>São Paulo</td>\n",
       "      <td>45538936</td>\n",
       "    </tr>\n",
       "    <tr>\n",
       "      <th>24</th>\n",
       "      <td>Região Sul</td>\n",
       "      <td>29754036</td>\n",
       "    </tr>\n",
       "    <tr>\n",
       "      <th>25</th>\n",
       "      <td>Paraná</td>\n",
       "      <td>11348937</td>\n",
       "    </tr>\n",
       "    <tr>\n",
       "      <th>26</th>\n",
       "      <td>Santa Catarina</td>\n",
       "      <td>7075494</td>\n",
       "    </tr>\n",
       "    <tr>\n",
       "      <th>27</th>\n",
       "      <td>Rio Grande do Sul</td>\n",
       "      <td>11329605</td>\n",
       "    </tr>\n",
       "    <tr>\n",
       "      <th>28</th>\n",
       "      <td>Região Centro-Oeste</td>\n",
       "      <td>16085885</td>\n",
       "    </tr>\n",
       "    <tr>\n",
       "      <th>29</th>\n",
       "      <td>Mato Grosso do Sul</td>\n",
       "      <td>2748023</td>\n",
       "    </tr>\n",
       "    <tr>\n",
       "      <th>30</th>\n",
       "      <td>Mato Grosso</td>\n",
       "      <td>3441998</td>\n",
       "    </tr>\n",
       "    <tr>\n",
       "      <th>31</th>\n",
       "      <td>Goiás</td>\n",
       "      <td>6.921.161 (***)</td>\n",
       "    </tr>\n",
       "    <tr>\n",
       "      <th>32</th>\n",
       "      <td>Distrito Federal</td>\n",
       "      <td>2.974.703 (***)</td>\n",
       "    </tr>\n",
       "  </tbody>\n",
       "</table>\n",
       "</div>"
      ],
      "text/plain": [
       "   BRASIL E UNIDADES DA FEDERAÇÃO POPULAÇÃO ESTIMADA\n",
       "23                      São Paulo           45538936\n",
       "24                     Região Sul           29754036\n",
       "25                         Paraná           11348937\n",
       "26                 Santa Catarina            7075494\n",
       "27              Rio Grande do Sul           11329605\n",
       "28            Região Centro-Oeste           16085885\n",
       "29             Mato Grosso do Sul            2748023\n",
       "30                    Mato Grosso            3441998\n",
       "31                          Goiás    6.921.161 (***)\n",
       "32               Distrito Federal    2.974.703 (***)"
      ]
     },
     "execution_count": 660,
     "metadata": {},
     "output_type": "execute_result"
    }
   ],
   "source": [
    "populacao.tail(10)"
   ]
  },
  {
   "cell_type": "markdown",
   "metadata": {
    "hidden": true
   },
   "source": [
    "## 1.3 - Funções auxiliares"
   ]
  },
  {
   "cell_type": "markdown",
   "metadata": {
    "hidden": true
   },
   "source": [
    "#### retirada de asteriscos"
   ]
  },
  {
   "cell_type": "code",
   "execution_count": 661,
   "metadata": {
    "hidden": true
   },
   "outputs": [],
   "source": [
    "def retira_asteriscos_e_pontos(df, coluna):\n",
    "    valores = []\n",
    "    for linha in df[coluna]:\n",
    "        string = str(linha).split(' ')[0]\n",
    "        string = string.replace('.', '')\n",
    "        valores.append(string)\n",
    "    df[coluna] = valores"
   ]
  },
  {
   "cell_type": "markdown",
   "metadata": {
    "heading_collapsed": true
   },
   "source": [
    "# 2.0 - DESCRIÇÃO DOS DADOS"
   ]
  },
  {
   "cell_type": "markdown",
   "metadata": {
    "hidden": true
   },
   "source": [
    "## 2.1 - Tamanho dos datasets"
   ]
  },
  {
   "cell_type": "code",
   "execution_count": 662,
   "metadata": {
    "hidden": true
   },
   "outputs": [
    {
     "name": "stdout",
     "output_type": "stream",
     "text": [
      "Número de linhas do dataset de imunos(todas as vacinas): 28\n",
      "Número de colunas do dataset de imunos(todas as vacinas): 25\n"
     ]
    }
   ],
   "source": [
    "print(f'Número de linhas do dataset de imunos(todas as vacinas): {vacinas.shape[0]}')\n",
    "print(f'Número de colunas do dataset de imunos(todas as vacinas): {vacinas.shape[1]}')"
   ]
  },
  {
   "cell_type": "code",
   "execution_count": 663,
   "metadata": {
    "hidden": true
   },
   "outputs": [
    {
     "name": "stdout",
     "output_type": "stream",
     "text": [
      "Número de linhas do dataset de casos de hepatite: 28\n",
      "Número de colunas do dataset de casos de hepatite:: 29\n"
     ]
    }
   ],
   "source": [
    "print(f'Número de linhas do dataset de casos de hepatite: {casos_hepatite.shape[0]}')\n",
    "print(f'Número de colunas do dataset de casos de hepatite:: {casos_hepatite.shape[1]}')"
   ]
  },
  {
   "cell_type": "markdown",
   "metadata": {
    "hidden": true
   },
   "source": [
    "## 2.2 - Verificando e alterando tipos de dados e dados nulos"
   ]
  },
  {
   "cell_type": "code",
   "execution_count": 664,
   "metadata": {
    "hidden": true
   },
   "outputs": [
    {
     "name": "stdout",
     "output_type": "stream",
     "text": [
      "<class 'pandas.core.frame.DataFrame'>\n",
      "RangeIndex: 28 entries, 0 to 27\n",
      "Data columns (total 25 columns):\n",
      "Unidade da Federação                             28 non-null object\n",
      "072 BCG                                          28 non-null int64\n",
      "099 Hepatite B  em crianças até 30 dias          28 non-null int64\n",
      "061 Rotavírus Humano                             28 non-null int64\n",
      "053 Meningococo C                                28 non-null int64\n",
      "073 Hepatite B                                   28 non-null int64\n",
      "080 Penta                                        28 non-null int64\n",
      "012 Pneumocócica                                 28 non-null int64\n",
      "074 Poliomielite                                 28 non-null int64\n",
      "100 Poliomielite 4 anos                          28 non-null object\n",
      "006 Febre Amarela                                28 non-null int64\n",
      "096 Hepatite A                                   28 non-null int64\n",
      "091 Pneumocócica(1º ref)                         28 non-null int64\n",
      "092 Meningococo C (1º ref)                       28 non-null int64\n",
      "093 Poliomielite(1º ref)                         28 non-null int64\n",
      "021 Tríplice Viral  D1                           28 non-null int64\n",
      "098 Tríplice Viral  D2                           28 non-null int64\n",
      "097 Tetra Viral(SRC+VZ)                          28 non-null int64\n",
      "075 DTP                                          28 non-null int64\n",
      "102 DTP REF (4 e 6 anos)                         28 non-null int64\n",
      "103 Dupla Adulto (dt)                            28 non-null int64\n",
      "095 Tríplice Bacteriana(DTP)(1º ref)             28 non-null int64\n",
      "094 Dupla adulto e tríplice acelular gestante    28 non-null int64\n",
      "003 dTpa gestante                                28 non-null int64\n",
      "Total                                            28 non-null int64\n",
      "dtypes: int64(23), object(2)\n",
      "memory usage: 5.5+ KB\n"
     ]
    }
   ],
   "source": [
    "vacinas.info()"
   ]
  },
  {
   "cell_type": "code",
   "execution_count": 665,
   "metadata": {
    "hidden": true
   },
   "outputs": [
    {
     "data": {
      "text/plain": [
       "Unidade da Federação                             0\n",
       "072 BCG                                          0\n",
       "099 Hepatite B  em crianças até 30 dias          0\n",
       "061 Rotavírus Humano                             0\n",
       "053 Meningococo C                                0\n",
       "073 Hepatite B                                   0\n",
       "080 Penta                                        0\n",
       "012 Pneumocócica                                 0\n",
       "074 Poliomielite                                 0\n",
       "100 Poliomielite 4 anos                          0\n",
       "006 Febre Amarela                                0\n",
       "096 Hepatite A                                   0\n",
       "091 Pneumocócica(1º ref)                         0\n",
       "092 Meningococo C (1º ref)                       0\n",
       "093 Poliomielite(1º ref)                         0\n",
       "021 Tríplice Viral  D1                           0\n",
       "098 Tríplice Viral  D2                           0\n",
       "097 Tetra Viral(SRC+VZ)                          0\n",
       "075 DTP                                          0\n",
       "102 DTP REF (4 e 6 anos)                         0\n",
       "103 Dupla Adulto (dt)                            0\n",
       "095 Tríplice Bacteriana(DTP)(1º ref)             0\n",
       "094 Dupla adulto e tríplice acelular gestante    0\n",
       "003 dTpa gestante                                0\n",
       "Total                                            0\n",
       "dtype: int64"
      ]
     },
     "execution_count": 665,
     "metadata": {},
     "output_type": "execute_result"
    }
   ],
   "source": [
    "vacinas.isnull().sum()"
   ]
  },
  {
   "cell_type": "code",
   "execution_count": 666,
   "metadata": {
    "hidden": true
   },
   "outputs": [
    {
     "data": {
      "text/plain": [
       "UF de residência    object\n",
       "RO                  object\n",
       "AC                  object\n",
       "AM                  object\n",
       "RR                  object\n",
       "PA                  object\n",
       "AP                  object\n",
       "TO                  object\n",
       "MA                  object\n",
       "PI                  object\n",
       "CE                  object\n",
       "RN                  object\n",
       "PB                  object\n",
       "PE                  object\n",
       "AL                  object\n",
       "SE                  object\n",
       "BA                  object\n",
       "MG                  object\n",
       "ES                  object\n",
       "RJ                  object\n",
       "SP                  object\n",
       "PR                  object\n",
       "SC                  object\n",
       "RS                  object\n",
       "MS                  object\n",
       "MT                  object\n",
       "GO                  object\n",
       "DF                  object\n",
       "Total                int64\n",
       "dtype: object"
      ]
     },
     "execution_count": 666,
     "metadata": {},
     "output_type": "execute_result"
    }
   ],
   "source": [
    "casos_hepatite.dtypes"
   ]
  },
  {
   "cell_type": "code",
   "execution_count": 667,
   "metadata": {
    "hidden": true
   },
   "outputs": [
    {
     "data": {
      "text/html": [
       "<div>\n",
       "<style scoped>\n",
       "    .dataframe tbody tr th:only-of-type {\n",
       "        vertical-align: middle;\n",
       "    }\n",
       "\n",
       "    .dataframe tbody tr th {\n",
       "        vertical-align: top;\n",
       "    }\n",
       "\n",
       "    .dataframe thead th {\n",
       "        text-align: right;\n",
       "    }\n",
       "</style>\n",
       "<table border=\"1\" class=\"dataframe\">\n",
       "  <thead>\n",
       "    <tr style=\"text-align: right;\">\n",
       "      <th></th>\n",
       "      <th>Unidade da Federação</th>\n",
       "      <th>072 BCG</th>\n",
       "      <th>099 Hepatite B  em crianças até 30 dias</th>\n",
       "      <th>061 Rotavírus Humano</th>\n",
       "      <th>053 Meningococo C</th>\n",
       "      <th>073 Hepatite B</th>\n",
       "      <th>080 Penta</th>\n",
       "      <th>012 Pneumocócica</th>\n",
       "      <th>074 Poliomielite</th>\n",
       "      <th>100 Poliomielite 4 anos</th>\n",
       "      <th>...</th>\n",
       "      <th>021 Tríplice Viral  D1</th>\n",
       "      <th>098 Tríplice Viral  D2</th>\n",
       "      <th>097 Tetra Viral(SRC+VZ)</th>\n",
       "      <th>075 DTP</th>\n",
       "      <th>102 DTP REF (4 e 6 anos)</th>\n",
       "      <th>103 Dupla Adulto (dt)</th>\n",
       "      <th>095 Tríplice Bacteriana(DTP)(1º ref)</th>\n",
       "      <th>094 Dupla adulto e tríplice acelular gestante</th>\n",
       "      <th>003 dTpa gestante</th>\n",
       "      <th>Total</th>\n",
       "    </tr>\n",
       "  </thead>\n",
       "  <tbody>\n",
       "    <tr>\n",
       "      <th>1</th>\n",
       "      <td>12 Acre</td>\n",
       "      <td>15839</td>\n",
       "      <td>14836</td>\n",
       "      <td>12926</td>\n",
       "      <td>11899</td>\n",
       "      <td>11003</td>\n",
       "      <td>10962</td>\n",
       "      <td>14016</td>\n",
       "      <td>12207</td>\n",
       "      <td>-</td>\n",
       "      <td>...</td>\n",
       "      <td>13051</td>\n",
       "      <td>11337</td>\n",
       "      <td>9317</td>\n",
       "      <td>10979</td>\n",
       "      <td>822</td>\n",
       "      <td>26056</td>\n",
       "      <td>9905</td>\n",
       "      <td>7208</td>\n",
       "      <td>9854</td>\n",
       "      <td>255893</td>\n",
       "    </tr>\n",
       "    <tr>\n",
       "      <th>5</th>\n",
       "      <td>16 Amapá</td>\n",
       "      <td>15924</td>\n",
       "      <td>14214</td>\n",
       "      <td>11861</td>\n",
       "      <td>10565</td>\n",
       "      <td>10040</td>\n",
       "      <td>9776</td>\n",
       "      <td>12149</td>\n",
       "      <td>10650</td>\n",
       "      <td>-</td>\n",
       "      <td>...</td>\n",
       "      <td>11946</td>\n",
       "      <td>9901</td>\n",
       "      <td>7930</td>\n",
       "      <td>9794</td>\n",
       "      <td>848</td>\n",
       "      <td>25547</td>\n",
       "      <td>8078</td>\n",
       "      <td>7556</td>\n",
       "      <td>8861</td>\n",
       "      <td>231821</td>\n",
       "    </tr>\n",
       "  </tbody>\n",
       "</table>\n",
       "<p>2 rows × 25 columns</p>\n",
       "</div>"
      ],
      "text/plain": [
       "  Unidade da Federação  072 BCG  099 Hepatite B  em crianças até 30 dias  \\\n",
       "1              12 Acre    15839                                    14836   \n",
       "5             16 Amapá    15924                                    14214   \n",
       "\n",
       "   061 Rotavírus Humano  053 Meningococo C  073 Hepatite B  080 Penta  \\\n",
       "1                 12926              11899           11003      10962   \n",
       "5                 11861              10565           10040       9776   \n",
       "\n",
       "   012 Pneumocócica  074 Poliomielite 100 Poliomielite 4 anos   ...    \\\n",
       "1             14016             12207                       -   ...     \n",
       "5             12149             10650                       -   ...     \n",
       "\n",
       "   021 Tríplice Viral  D1  098 Tríplice Viral  D2  097 Tetra Viral(SRC+VZ)  \\\n",
       "1                   13051                   11337                     9317   \n",
       "5                   11946                    9901                     7930   \n",
       "\n",
       "   075 DTP  102 DTP REF (4 e 6 anos)  103 Dupla Adulto (dt)  \\\n",
       "1    10979                       822                  26056   \n",
       "5     9794                       848                  25547   \n",
       "\n",
       "   095 Tríplice Bacteriana(DTP)(1º ref)  \\\n",
       "1                                  9905   \n",
       "5                                  8078   \n",
       "\n",
       "   094 Dupla adulto e tríplice acelular gestante  003 dTpa gestante   Total  \n",
       "1                                           7208               9854  255893  \n",
       "5                                           7556               8861  231821  \n",
       "\n",
       "[2 rows x 25 columns]"
      ]
     },
     "execution_count": 667,
     "metadata": {},
     "output_type": "execute_result"
    }
   ],
   "source": [
    "''' \n",
    "Apesar da visualização acima mostrar que não há dados nulos, verificamos que a coluna \n",
    "'100 Poliomielite 4 anos' foi inserida pelo Python como sendo do tipo 'object', pois há linhas \n",
    "preenchidas com o caractere '-', provavelmente por falta de dados. Vamos verificar a quantidade de \n",
    "ocorrências desse caractere: \n",
    "'''\n",
    "\n",
    "vacinas[vacinas['100 Poliomielite 4 anos'] == '-']\n"
   ]
  },
  {
   "cell_type": "code",
   "execution_count": 668,
   "metadata": {
    "hidden": true
   },
   "outputs": [],
   "source": [
    "# vamos preencher essas linhas com o valor 0, para podermos alterar o tipo de dado para int\n",
    "vacinas['100 Poliomielite 4 anos'].replace('-', '0', inplace = True)"
   ]
  },
  {
   "cell_type": "code",
   "execution_count": 669,
   "metadata": {
    "hidden": true
   },
   "outputs": [],
   "source": [
    "# agora vamos alterar o tipo da coluna\n",
    "vacinas['100 Poliomielite 4 anos'] = vacinas['100 Poliomielite 4 anos'].astype('int64')"
   ]
  },
  {
   "cell_type": "code",
   "execution_count": 670,
   "metadata": {
    "hidden": true
   },
   "outputs": [
    {
     "data": {
      "text/plain": [
       "Unidade da Federação                             object\n",
       "072 BCG                                           int64\n",
       "099 Hepatite B  em crianças até 30 dias           int64\n",
       "061 Rotavírus Humano                              int64\n",
       "053 Meningococo C                                 int64\n",
       "073 Hepatite B                                    int64\n",
       "080 Penta                                         int64\n",
       "012 Pneumocócica                                  int64\n",
       "074 Poliomielite                                  int64\n",
       "100 Poliomielite 4 anos                           int64\n",
       "006 Febre Amarela                                 int64\n",
       "096 Hepatite A                                    int64\n",
       "091 Pneumocócica(1º ref)                          int64\n",
       "092 Meningococo C (1º ref)                        int64\n",
       "093 Poliomielite(1º ref)                          int64\n",
       "021 Tríplice Viral  D1                            int64\n",
       "098 Tríplice Viral  D2                            int64\n",
       "097 Tetra Viral(SRC+VZ)                           int64\n",
       "075 DTP                                           int64\n",
       "102 DTP REF (4 e 6 anos)                          int64\n",
       "103 Dupla Adulto (dt)                             int64\n",
       "095 Tríplice Bacteriana(DTP)(1º ref)              int64\n",
       "094 Dupla adulto e tríplice acelular gestante     int64\n",
       "003 dTpa gestante                                 int64\n",
       "Total                                             int64\n",
       "dtype: object"
      ]
     },
     "execution_count": 670,
     "metadata": {},
     "output_type": "execute_result"
    }
   ],
   "source": [
    "vacinas.dtypes"
   ]
  },
  {
   "cell_type": "markdown",
   "metadata": {
    "hidden": true
   },
   "source": [
    "## 2.3 - Verificação e alteração de Colunas"
   ]
  },
  {
   "cell_type": "markdown",
   "metadata": {
    "hidden": true
   },
   "source": [
    "### 2.3.1 - Dataset vacinas"
   ]
  },
  {
   "cell_type": "code",
   "execution_count": 671,
   "metadata": {
    "hidden": true
   },
   "outputs": [
    {
     "data": {
      "text/html": [
       "<div>\n",
       "<style scoped>\n",
       "    .dataframe tbody tr th:only-of-type {\n",
       "        vertical-align: middle;\n",
       "    }\n",
       "\n",
       "    .dataframe tbody tr th {\n",
       "        vertical-align: top;\n",
       "    }\n",
       "\n",
       "    .dataframe thead th {\n",
       "        text-align: right;\n",
       "    }\n",
       "</style>\n",
       "<table border=\"1\" class=\"dataframe\">\n",
       "  <thead>\n",
       "    <tr style=\"text-align: right;\">\n",
       "      <th></th>\n",
       "      <th>0</th>\n",
       "    </tr>\n",
       "  </thead>\n",
       "  <tbody>\n",
       "    <tr>\n",
       "      <th>0</th>\n",
       "      <td>Unidade da Federação</td>\n",
       "    </tr>\n",
       "    <tr>\n",
       "      <th>1</th>\n",
       "      <td>072 BCG</td>\n",
       "    </tr>\n",
       "    <tr>\n",
       "      <th>2</th>\n",
       "      <td>099 Hepatite B  em crianças até 30 dias</td>\n",
       "    </tr>\n",
       "    <tr>\n",
       "      <th>3</th>\n",
       "      <td>061 Rotavírus Humano</td>\n",
       "    </tr>\n",
       "    <tr>\n",
       "      <th>4</th>\n",
       "      <td>053 Meningococo C</td>\n",
       "    </tr>\n",
       "    <tr>\n",
       "      <th>5</th>\n",
       "      <td>073 Hepatite B</td>\n",
       "    </tr>\n",
       "    <tr>\n",
       "      <th>6</th>\n",
       "      <td>080 Penta</td>\n",
       "    </tr>\n",
       "    <tr>\n",
       "      <th>7</th>\n",
       "      <td>012 Pneumocócica</td>\n",
       "    </tr>\n",
       "    <tr>\n",
       "      <th>8</th>\n",
       "      <td>074 Poliomielite</td>\n",
       "    </tr>\n",
       "    <tr>\n",
       "      <th>9</th>\n",
       "      <td>100 Poliomielite 4 anos</td>\n",
       "    </tr>\n",
       "    <tr>\n",
       "      <th>10</th>\n",
       "      <td>006 Febre Amarela</td>\n",
       "    </tr>\n",
       "    <tr>\n",
       "      <th>11</th>\n",
       "      <td>096 Hepatite A</td>\n",
       "    </tr>\n",
       "    <tr>\n",
       "      <th>12</th>\n",
       "      <td>091 Pneumocócica(1º ref)</td>\n",
       "    </tr>\n",
       "    <tr>\n",
       "      <th>13</th>\n",
       "      <td>092 Meningococo C (1º ref)</td>\n",
       "    </tr>\n",
       "    <tr>\n",
       "      <th>14</th>\n",
       "      <td>093 Poliomielite(1º ref)</td>\n",
       "    </tr>\n",
       "    <tr>\n",
       "      <th>15</th>\n",
       "      <td>021 Tríplice Viral  D1</td>\n",
       "    </tr>\n",
       "    <tr>\n",
       "      <th>16</th>\n",
       "      <td>098 Tríplice Viral  D2</td>\n",
       "    </tr>\n",
       "    <tr>\n",
       "      <th>17</th>\n",
       "      <td>097 Tetra Viral(SRC+VZ)</td>\n",
       "    </tr>\n",
       "    <tr>\n",
       "      <th>18</th>\n",
       "      <td>075 DTP</td>\n",
       "    </tr>\n",
       "    <tr>\n",
       "      <th>19</th>\n",
       "      <td>102 DTP REF (4 e 6 anos)</td>\n",
       "    </tr>\n",
       "    <tr>\n",
       "      <th>20</th>\n",
       "      <td>103 Dupla Adulto (dt)</td>\n",
       "    </tr>\n",
       "    <tr>\n",
       "      <th>21</th>\n",
       "      <td>095 Tríplice Bacteriana(DTP)(1º ref)</td>\n",
       "    </tr>\n",
       "    <tr>\n",
       "      <th>22</th>\n",
       "      <td>094 Dupla adulto e tríplice acelular gestante</td>\n",
       "    </tr>\n",
       "    <tr>\n",
       "      <th>23</th>\n",
       "      <td>003 dTpa gestante</td>\n",
       "    </tr>\n",
       "    <tr>\n",
       "      <th>24</th>\n",
       "      <td>Total</td>\n",
       "    </tr>\n",
       "  </tbody>\n",
       "</table>\n",
       "</div>"
      ],
      "text/plain": [
       "                                                0\n",
       "0                            Unidade da Federação\n",
       "1                                         072 BCG\n",
       "2         099 Hepatite B  em crianças até 30 dias\n",
       "3                            061 Rotavírus Humano\n",
       "4                               053 Meningococo C\n",
       "5                                  073 Hepatite B\n",
       "6                                       080 Penta\n",
       "7                                012 Pneumocócica\n",
       "8                                074 Poliomielite\n",
       "9                         100 Poliomielite 4 anos\n",
       "10                              006 Febre Amarela\n",
       "11                                 096 Hepatite A\n",
       "12                       091 Pneumocócica(1º ref)\n",
       "13                     092 Meningococo C (1º ref)\n",
       "14                       093 Poliomielite(1º ref)\n",
       "15                         021 Tríplice Viral  D1\n",
       "16                         098 Tríplice Viral  D2\n",
       "17                        097 Tetra Viral(SRC+VZ)\n",
       "18                                        075 DTP\n",
       "19                       102 DTP REF (4 e 6 anos)\n",
       "20                          103 Dupla Adulto (dt)\n",
       "21           095 Tríplice Bacteriana(DTP)(1º ref)\n",
       "22  094 Dupla adulto e tríplice acelular gestante\n",
       "23                              003 dTpa gestante\n",
       "24                                          Total"
      ]
     },
     "execution_count": 671,
     "metadata": {},
     "output_type": "execute_result"
    }
   ],
   "source": [
    "pd.DataFrame(vacinas.columns)"
   ]
  },
  {
   "cell_type": "code",
   "execution_count": 672,
   "metadata": {
    "hidden": true
   },
   "outputs": [
    {
     "data": {
      "text/plain": [
       "0                11 Rondônia\n",
       "1                    12 Acre\n",
       "2                13 Amazonas\n",
       "3                 14 Roraima\n",
       "4                    15 Pará\n",
       "5                   16 Amapá\n",
       "6               17 Tocantins\n",
       "7                21 Maranhão\n",
       "8                   22 Piauí\n",
       "9                   23 Ceará\n",
       "10    24 Rio Grande do Norte\n",
       "11                25 Paraíba\n",
       "12             26 Pernambuco\n",
       "13                27 Alagoas\n",
       "14                28 Sergipe\n",
       "15                  29 Bahia\n",
       "16           31 Minas Gerais\n",
       "17         32 Espírito Santo\n",
       "18         33 Rio de Janeiro\n",
       "19              35 São Paulo\n",
       "20                 41 Paraná\n",
       "21         42 Santa Catarina\n",
       "22      43 Rio Grande do Sul\n",
       "23     50 Mato Grosso do Sul\n",
       "24            51 Mato Grosso\n",
       "25                  52 Goiás\n",
       "26       53 Distrito Federal\n",
       "27                     Total\n",
       "Name: Unidade da Federação, dtype: object"
      ]
     },
     "execution_count": 672,
     "metadata": {},
     "output_type": "execute_result"
    }
   ],
   "source": [
    "# podemos perceber que as linhas da coluna com os nomes dos estados possuem números. Cada dezena \n",
    "# representa a região onde esse estado se encontra.\n",
    "vacinas['Unidade da Federação']"
   ]
  },
  {
   "cell_type": "markdown",
   "metadata": {
    "hidden": true
   },
   "source": [
    "#### Criação da coluna \"Regiao\""
   ]
  },
  {
   "cell_type": "code",
   "execution_count": 673,
   "metadata": {
    "hidden": true
   },
   "outputs": [],
   "source": [
    "# antes de retirarmos esses números, vamos utilizá-los para criar uma coluna com o nome da região, pois\n",
    "# utilizaremos esses dados mais tarde\n",
    "vacinas.loc[vacinas['Unidade da Federação'].str[0] == '1', 'Regiao'] = 'Norte'\n",
    "vacinas.loc[vacinas['Unidade da Federação'].str[0] == '2', 'Regiao'] = 'Nordeste'\n",
    "vacinas.loc[vacinas['Unidade da Federação'].str[0] == '3', 'Regiao'] = 'Sudeste'\n",
    "vacinas.loc[vacinas['Unidade da Federação'].str[0] == '4', 'Regiao'] = 'Sul'\n",
    "vacinas.loc[vacinas['Unidade da Federação'].str[0] == '5', 'Regiao'] = 'Centro-Oeste'"
   ]
  },
  {
   "cell_type": "markdown",
   "metadata": {
    "hidden": true
   },
   "source": [
    "#### Renomeando as colunas"
   ]
  },
  {
   "cell_type": "code",
   "execution_count": 674,
   "metadata": {
    "hidden": true
   },
   "outputs": [],
   "source": [
    "# renomear colunas\n",
    "nomes = []\n",
    "for coluna in vacinas:\n",
    "    if coluna[0] == '0' or coluna[0] == '1':\n",
    "        nome_alterado = coluna[4:]\n",
    "        nomes.append(nome_alterado)\n",
    "    else:\n",
    "        nomes.append(coluna)"
   ]
  },
  {
   "cell_type": "code",
   "execution_count": 675,
   "metadata": {
    "hidden": true
   },
   "outputs": [],
   "source": [
    "vacinas.columns = nomes"
   ]
  },
  {
   "cell_type": "code",
   "execution_count": 676,
   "metadata": {
    "hidden": true
   },
   "outputs": [
    {
     "data": {
      "text/plain": [
       "Index(['Unidade da Federação', 'BCG', 'Hepatite B  em crianças até 30 dias',\n",
       "       'Rotavírus Humano', 'Meningococo C', 'Hepatite B', 'Penta',\n",
       "       'Pneumocócica', 'Poliomielite', 'Poliomielite 4 anos', 'Febre Amarela',\n",
       "       'Hepatite A', 'Pneumocócica(1º ref)', 'Meningococo C (1º ref)',\n",
       "       'Poliomielite(1º ref)', 'Tríplice Viral  D1', 'Tríplice Viral  D2',\n",
       "       'Tetra Viral(SRC+VZ)', 'DTP', 'DTP REF (4 e 6 anos)',\n",
       "       'Dupla Adulto (dt)', 'Tríplice Bacteriana(DTP)(1º ref)',\n",
       "       'Dupla adulto e tríplice acelular gestante', 'dTpa gestante', 'Total',\n",
       "       'Regiao'],\n",
       "      dtype='object')"
      ]
     },
     "execution_count": 676,
     "metadata": {},
     "output_type": "execute_result"
    }
   ],
   "source": [
    "vacinas.columns"
   ]
  },
  {
   "cell_type": "code",
   "execution_count": 677,
   "metadata": {
    "hidden": true
   },
   "outputs": [
    {
     "data": {
      "text/html": [
       "<div>\n",
       "<style scoped>\n",
       "    .dataframe tbody tr th:only-of-type {\n",
       "        vertical-align: middle;\n",
       "    }\n",
       "\n",
       "    .dataframe tbody tr th {\n",
       "        vertical-align: top;\n",
       "    }\n",
       "\n",
       "    .dataframe thead th {\n",
       "        text-align: right;\n",
       "    }\n",
       "</style>\n",
       "<table border=\"1\" class=\"dataframe\">\n",
       "  <thead>\n",
       "    <tr style=\"text-align: right;\">\n",
       "      <th></th>\n",
       "      <th>Unidade da Federação</th>\n",
       "      <th>BCG</th>\n",
       "      <th>Hepatite B  em crianças até 30 dias</th>\n",
       "      <th>Rotavírus Humano</th>\n",
       "      <th>Meningococo C</th>\n",
       "      <th>Hepatite B</th>\n",
       "      <th>Penta</th>\n",
       "      <th>Pneumocócica</th>\n",
       "      <th>Poliomielite</th>\n",
       "      <th>Poliomielite 4 anos</th>\n",
       "      <th>...</th>\n",
       "      <th>Tríplice Viral  D2</th>\n",
       "      <th>Tetra Viral(SRC+VZ)</th>\n",
       "      <th>DTP</th>\n",
       "      <th>DTP REF (4 e 6 anos)</th>\n",
       "      <th>Dupla Adulto (dt)</th>\n",
       "      <th>Tríplice Bacteriana(DTP)(1º ref)</th>\n",
       "      <th>Dupla adulto e tríplice acelular gestante</th>\n",
       "      <th>dTpa gestante</th>\n",
       "      <th>Total</th>\n",
       "      <th>Regiao</th>\n",
       "    </tr>\n",
       "  </thead>\n",
       "  <tbody>\n",
       "    <tr>\n",
       "      <th>0</th>\n",
       "      <td>11 Rondônia</td>\n",
       "      <td>24805</td>\n",
       "      <td>24267</td>\n",
       "      <td>25652</td>\n",
       "      <td>26528</td>\n",
       "      <td>26870</td>\n",
       "      <td>26529</td>\n",
       "      <td>27399</td>\n",
       "      <td>27046</td>\n",
       "      <td>2</td>\n",
       "      <td>...</td>\n",
       "      <td>21106</td>\n",
       "      <td>14275</td>\n",
       "      <td>26553</td>\n",
       "      <td>1127</td>\n",
       "      <td>73143</td>\n",
       "      <td>18928</td>\n",
       "      <td>12836</td>\n",
       "      <td>16474</td>\n",
       "      <td>533293</td>\n",
       "      <td>Norte</td>\n",
       "    </tr>\n",
       "    <tr>\n",
       "      <th>1</th>\n",
       "      <td>12 Acre</td>\n",
       "      <td>15839</td>\n",
       "      <td>14836</td>\n",
       "      <td>12926</td>\n",
       "      <td>11899</td>\n",
       "      <td>11003</td>\n",
       "      <td>10962</td>\n",
       "      <td>14016</td>\n",
       "      <td>12207</td>\n",
       "      <td>0</td>\n",
       "      <td>...</td>\n",
       "      <td>11337</td>\n",
       "      <td>9317</td>\n",
       "      <td>10979</td>\n",
       "      <td>822</td>\n",
       "      <td>26056</td>\n",
       "      <td>9905</td>\n",
       "      <td>7208</td>\n",
       "      <td>9854</td>\n",
       "      <td>255893</td>\n",
       "      <td>Norte</td>\n",
       "    </tr>\n",
       "    <tr>\n",
       "      <th>2</th>\n",
       "      <td>13 Amazonas</td>\n",
       "      <td>74056</td>\n",
       "      <td>69054</td>\n",
       "      <td>61042</td>\n",
       "      <td>60444</td>\n",
       "      <td>60794</td>\n",
       "      <td>60278</td>\n",
       "      <td>68492</td>\n",
       "      <td>60189</td>\n",
       "      <td>90</td>\n",
       "      <td>...</td>\n",
       "      <td>59542</td>\n",
       "      <td>44657</td>\n",
       "      <td>60366</td>\n",
       "      <td>3709</td>\n",
       "      <td>193796</td>\n",
       "      <td>52651</td>\n",
       "      <td>43307</td>\n",
       "      <td>54128</td>\n",
       "      <td>1377647</td>\n",
       "      <td>Norte</td>\n",
       "    </tr>\n",
       "    <tr>\n",
       "      <th>3</th>\n",
       "      <td>14 Roraima</td>\n",
       "      <td>15138</td>\n",
       "      <td>14576</td>\n",
       "      <td>10465</td>\n",
       "      <td>9665</td>\n",
       "      <td>9910</td>\n",
       "      <td>9609</td>\n",
       "      <td>10950</td>\n",
       "      <td>9089</td>\n",
       "      <td>24</td>\n",
       "      <td>...</td>\n",
       "      <td>10070</td>\n",
       "      <td>8188</td>\n",
       "      <td>9636</td>\n",
       "      <td>1453</td>\n",
       "      <td>28239</td>\n",
       "      <td>8956</td>\n",
       "      <td>4577</td>\n",
       "      <td>6994</td>\n",
       "      <td>225777</td>\n",
       "      <td>Norte</td>\n",
       "    </tr>\n",
       "    <tr>\n",
       "      <th>4</th>\n",
       "      <td>15 Pará</td>\n",
       "      <td>115103</td>\n",
       "      <td>102661</td>\n",
       "      <td>97161</td>\n",
       "      <td>88535</td>\n",
       "      <td>79467</td>\n",
       "      <td>78662</td>\n",
       "      <td>106786</td>\n",
       "      <td>93892</td>\n",
       "      <td>10</td>\n",
       "      <td>...</td>\n",
       "      <td>80684</td>\n",
       "      <td>64751</td>\n",
       "      <td>78731</td>\n",
       "      <td>5260</td>\n",
       "      <td>199063</td>\n",
       "      <td>72060</td>\n",
       "      <td>58680</td>\n",
       "      <td>74955</td>\n",
       "      <td>1914032</td>\n",
       "      <td>Norte</td>\n",
       "    </tr>\n",
       "  </tbody>\n",
       "</table>\n",
       "<p>5 rows × 26 columns</p>\n",
       "</div>"
      ],
      "text/plain": [
       "  Unidade da Federação     BCG  Hepatite B  em crianças até 30 dias  \\\n",
       "0          11 Rondônia   24805                                24267   \n",
       "1              12 Acre   15839                                14836   \n",
       "2          13 Amazonas   74056                                69054   \n",
       "3           14 Roraima   15138                                14576   \n",
       "4              15 Pará  115103                               102661   \n",
       "\n",
       "   Rotavírus Humano  Meningococo C  Hepatite B  Penta  Pneumocócica  \\\n",
       "0             25652          26528       26870  26529         27399   \n",
       "1             12926          11899       11003  10962         14016   \n",
       "2             61042          60444       60794  60278         68492   \n",
       "3             10465           9665        9910   9609         10950   \n",
       "4             97161          88535       79467  78662        106786   \n",
       "\n",
       "   Poliomielite  Poliomielite 4 anos   ...    Tríplice Viral  D2  \\\n",
       "0         27046                    2   ...                 21106   \n",
       "1         12207                    0   ...                 11337   \n",
       "2         60189                   90   ...                 59542   \n",
       "3          9089                   24   ...                 10070   \n",
       "4         93892                   10   ...                 80684   \n",
       "\n",
       "   Tetra Viral(SRC+VZ)    DTP  DTP REF (4 e 6 anos)  Dupla Adulto (dt)  \\\n",
       "0                14275  26553                  1127              73143   \n",
       "1                 9317  10979                   822              26056   \n",
       "2                44657  60366                  3709             193796   \n",
       "3                 8188   9636                  1453              28239   \n",
       "4                64751  78731                  5260             199063   \n",
       "\n",
       "   Tríplice Bacteriana(DTP)(1º ref)  \\\n",
       "0                             18928   \n",
       "1                              9905   \n",
       "2                             52651   \n",
       "3                              8956   \n",
       "4                             72060   \n",
       "\n",
       "   Dupla adulto e tríplice acelular gestante  dTpa gestante    Total  Regiao  \n",
       "0                                      12836          16474   533293   Norte  \n",
       "1                                       7208           9854   255893   Norte  \n",
       "2                                      43307          54128  1377647   Norte  \n",
       "3                                       4577           6994   225777   Norte  \n",
       "4                                      58680          74955  1914032   Norte  \n",
       "\n",
       "[5 rows x 26 columns]"
      ]
     },
     "execution_count": 677,
     "metadata": {},
     "output_type": "execute_result"
    }
   ],
   "source": [
    "vacinas.head()"
   ]
  },
  {
   "cell_type": "markdown",
   "metadata": {
    "hidden": true
   },
   "source": [
    "#### Alterando o índice e ajustando seus nomes"
   ]
  },
  {
   "cell_type": "code",
   "execution_count": 678,
   "metadata": {
    "hidden": true
   },
   "outputs": [],
   "source": [
    "# vamos utilizar a coluna \"Unidade da Federação\" como índice em nosso dataset\n",
    "# antes, vamos retirar os números que estão na frente dos nomes dos estados\n",
    "\n",
    "vacinas['Unidade da Federação'][vacinas['Unidade da Federação'] != 'Total'] = vacinas['Unidade da Federação'].str[3:]"
   ]
  },
  {
   "cell_type": "code",
   "execution_count": 679,
   "metadata": {
    "hidden": true
   },
   "outputs": [],
   "source": [
    "# alterando o índice\n",
    "vacinas.set_index('Unidade da Federação', inplace = True)"
   ]
  },
  {
   "cell_type": "code",
   "execution_count": 680,
   "metadata": {
    "hidden": true
   },
   "outputs": [
    {
     "data": {
      "text/html": [
       "<div>\n",
       "<style scoped>\n",
       "    .dataframe tbody tr th:only-of-type {\n",
       "        vertical-align: middle;\n",
       "    }\n",
       "\n",
       "    .dataframe tbody tr th {\n",
       "        vertical-align: top;\n",
       "    }\n",
       "\n",
       "    .dataframe thead th {\n",
       "        text-align: right;\n",
       "    }\n",
       "</style>\n",
       "<table border=\"1\" class=\"dataframe\">\n",
       "  <thead>\n",
       "    <tr style=\"text-align: right;\">\n",
       "      <th></th>\n",
       "      <th>BCG</th>\n",
       "      <th>Hepatite B  em crianças até 30 dias</th>\n",
       "      <th>Rotavírus Humano</th>\n",
       "      <th>Meningococo C</th>\n",
       "      <th>Hepatite B</th>\n",
       "      <th>Penta</th>\n",
       "      <th>Pneumocócica</th>\n",
       "      <th>Poliomielite</th>\n",
       "      <th>Poliomielite 4 anos</th>\n",
       "      <th>Febre Amarela</th>\n",
       "      <th>...</th>\n",
       "      <th>Tríplice Viral  D2</th>\n",
       "      <th>Tetra Viral(SRC+VZ)</th>\n",
       "      <th>DTP</th>\n",
       "      <th>DTP REF (4 e 6 anos)</th>\n",
       "      <th>Dupla Adulto (dt)</th>\n",
       "      <th>Tríplice Bacteriana(DTP)(1º ref)</th>\n",
       "      <th>Dupla adulto e tríplice acelular gestante</th>\n",
       "      <th>dTpa gestante</th>\n",
       "      <th>Total</th>\n",
       "      <th>Regiao</th>\n",
       "    </tr>\n",
       "    <tr>\n",
       "      <th>Unidade da Federação</th>\n",
       "      <th></th>\n",
       "      <th></th>\n",
       "      <th></th>\n",
       "      <th></th>\n",
       "      <th></th>\n",
       "      <th></th>\n",
       "      <th></th>\n",
       "      <th></th>\n",
       "      <th></th>\n",
       "      <th></th>\n",
       "      <th></th>\n",
       "      <th></th>\n",
       "      <th></th>\n",
       "      <th></th>\n",
       "      <th></th>\n",
       "      <th></th>\n",
       "      <th></th>\n",
       "      <th></th>\n",
       "      <th></th>\n",
       "      <th></th>\n",
       "      <th></th>\n",
       "    </tr>\n",
       "  </thead>\n",
       "  <tbody>\n",
       "    <tr>\n",
       "      <th>Rondônia</th>\n",
       "      <td>24805</td>\n",
       "      <td>24267</td>\n",
       "      <td>25652</td>\n",
       "      <td>26528</td>\n",
       "      <td>26870</td>\n",
       "      <td>26529</td>\n",
       "      <td>27399</td>\n",
       "      <td>27046</td>\n",
       "      <td>2</td>\n",
       "      <td>23879</td>\n",
       "      <td>...</td>\n",
       "      <td>21106</td>\n",
       "      <td>14275</td>\n",
       "      <td>26553</td>\n",
       "      <td>1127</td>\n",
       "      <td>73143</td>\n",
       "      <td>18928</td>\n",
       "      <td>12836</td>\n",
       "      <td>16474</td>\n",
       "      <td>533293</td>\n",
       "      <td>Norte</td>\n",
       "    </tr>\n",
       "    <tr>\n",
       "      <th>Acre</th>\n",
       "      <td>15839</td>\n",
       "      <td>14836</td>\n",
       "      <td>12926</td>\n",
       "      <td>11899</td>\n",
       "      <td>11003</td>\n",
       "      <td>10962</td>\n",
       "      <td>14016</td>\n",
       "      <td>12207</td>\n",
       "      <td>0</td>\n",
       "      <td>10468</td>\n",
       "      <td>...</td>\n",
       "      <td>11337</td>\n",
       "      <td>9317</td>\n",
       "      <td>10979</td>\n",
       "      <td>822</td>\n",
       "      <td>26056</td>\n",
       "      <td>9905</td>\n",
       "      <td>7208</td>\n",
       "      <td>9854</td>\n",
       "      <td>255893</td>\n",
       "      <td>Norte</td>\n",
       "    </tr>\n",
       "    <tr>\n",
       "      <th>Amazonas</th>\n",
       "      <td>74056</td>\n",
       "      <td>69054</td>\n",
       "      <td>61042</td>\n",
       "      <td>60444</td>\n",
       "      <td>60794</td>\n",
       "      <td>60278</td>\n",
       "      <td>68492</td>\n",
       "      <td>60189</td>\n",
       "      <td>90</td>\n",
       "      <td>53391</td>\n",
       "      <td>...</td>\n",
       "      <td>59542</td>\n",
       "      <td>44657</td>\n",
       "      <td>60366</td>\n",
       "      <td>3709</td>\n",
       "      <td>193796</td>\n",
       "      <td>52651</td>\n",
       "      <td>43307</td>\n",
       "      <td>54128</td>\n",
       "      <td>1377647</td>\n",
       "      <td>Norte</td>\n",
       "    </tr>\n",
       "    <tr>\n",
       "      <th>Roraima</th>\n",
       "      <td>15138</td>\n",
       "      <td>14576</td>\n",
       "      <td>10465</td>\n",
       "      <td>9665</td>\n",
       "      <td>9910</td>\n",
       "      <td>9609</td>\n",
       "      <td>10950</td>\n",
       "      <td>9089</td>\n",
       "      <td>24</td>\n",
       "      <td>8389</td>\n",
       "      <td>...</td>\n",
       "      <td>10070</td>\n",
       "      <td>8188</td>\n",
       "      <td>9636</td>\n",
       "      <td>1453</td>\n",
       "      <td>28239</td>\n",
       "      <td>8956</td>\n",
       "      <td>4577</td>\n",
       "      <td>6994</td>\n",
       "      <td>225777</td>\n",
       "      <td>Norte</td>\n",
       "    </tr>\n",
       "    <tr>\n",
       "      <th>Pará</th>\n",
       "      <td>115103</td>\n",
       "      <td>102661</td>\n",
       "      <td>97161</td>\n",
       "      <td>88535</td>\n",
       "      <td>79467</td>\n",
       "      <td>78662</td>\n",
       "      <td>106786</td>\n",
       "      <td>93892</td>\n",
       "      <td>10</td>\n",
       "      <td>85682</td>\n",
       "      <td>...</td>\n",
       "      <td>80684</td>\n",
       "      <td>64751</td>\n",
       "      <td>78731</td>\n",
       "      <td>5260</td>\n",
       "      <td>199063</td>\n",
       "      <td>72060</td>\n",
       "      <td>58680</td>\n",
       "      <td>74955</td>\n",
       "      <td>1914032</td>\n",
       "      <td>Norte</td>\n",
       "    </tr>\n",
       "  </tbody>\n",
       "</table>\n",
       "<p>5 rows × 25 columns</p>\n",
       "</div>"
      ],
      "text/plain": [
       "                         BCG  Hepatite B  em crianças até 30 dias  \\\n",
       "Unidade da Federação                                                \n",
       "Rondônia               24805                                24267   \n",
       "Acre                   15839                                14836   \n",
       "Amazonas               74056                                69054   \n",
       "Roraima                15138                                14576   \n",
       "Pará                  115103                               102661   \n",
       "\n",
       "                      Rotavírus Humano  Meningococo C  Hepatite B  Penta  \\\n",
       "Unidade da Federação                                                       \n",
       "Rondônia                         25652          26528       26870  26529   \n",
       "Acre                             12926          11899       11003  10962   \n",
       "Amazonas                         61042          60444       60794  60278   \n",
       "Roraima                          10465           9665        9910   9609   \n",
       "Pará                             97161          88535       79467  78662   \n",
       "\n",
       "                      Pneumocócica  Poliomielite  Poliomielite 4 anos  \\\n",
       "Unidade da Federação                                                    \n",
       "Rondônia                     27399         27046                    2   \n",
       "Acre                         14016         12207                    0   \n",
       "Amazonas                     68492         60189                   90   \n",
       "Roraima                      10950          9089                   24   \n",
       "Pará                        106786         93892                   10   \n",
       "\n",
       "                      Febre Amarela   ...    Tríplice Viral  D2  \\\n",
       "Unidade da Federação                  ...                         \n",
       "Rondônia                      23879   ...                 21106   \n",
       "Acre                          10468   ...                 11337   \n",
       "Amazonas                      53391   ...                 59542   \n",
       "Roraima                        8389   ...                 10070   \n",
       "Pará                          85682   ...                 80684   \n",
       "\n",
       "                      Tetra Viral(SRC+VZ)    DTP  DTP REF (4 e 6 anos)  \\\n",
       "Unidade da Federação                                                     \n",
       "Rondônia                            14275  26553                  1127   \n",
       "Acre                                 9317  10979                   822   \n",
       "Amazonas                            44657  60366                  3709   \n",
       "Roraima                              8188   9636                  1453   \n",
       "Pará                                64751  78731                  5260   \n",
       "\n",
       "                      Dupla Adulto (dt)  Tríplice Bacteriana(DTP)(1º ref)  \\\n",
       "Unidade da Federação                                                        \n",
       "Rondônia                          73143                             18928   \n",
       "Acre                              26056                              9905   \n",
       "Amazonas                         193796                             52651   \n",
       "Roraima                           28239                              8956   \n",
       "Pará                             199063                             72060   \n",
       "\n",
       "                      Dupla adulto e tríplice acelular gestante  \\\n",
       "Unidade da Federação                                              \n",
       "Rondônia                                                  12836   \n",
       "Acre                                                       7208   \n",
       "Amazonas                                                  43307   \n",
       "Roraima                                                    4577   \n",
       "Pará                                                      58680   \n",
       "\n",
       "                      dTpa gestante    Total  Regiao  \n",
       "Unidade da Federação                                  \n",
       "Rondônia                      16474   533293   Norte  \n",
       "Acre                           9854   255893   Norte  \n",
       "Amazonas                      54128  1377647   Norte  \n",
       "Roraima                        6994   225777   Norte  \n",
       "Pará                          74955  1914032   Norte  \n",
       "\n",
       "[5 rows x 25 columns]"
      ]
     },
     "execution_count": 680,
     "metadata": {},
     "output_type": "execute_result"
    }
   ],
   "source": [
    "vacinas.head()"
   ]
  },
  {
   "cell_type": "markdown",
   "metadata": {
    "hidden": true
   },
   "source": [
    "### 2.3.2 - Dataset casos_hepatite"
   ]
  },
  {
   "cell_type": "markdown",
   "metadata": {
    "heading_collapsed": true,
    "hidden": true
   },
   "source": [
    "#### Excluindo colunas"
   ]
  },
  {
   "cell_type": "code",
   "execution_count": 681,
   "metadata": {
    "hidden": true
   },
   "outputs": [],
   "source": [
    "# precisamos apenas do estado de residência e do total de casos em 2018\n",
    "casos_hepatite = casos_hepatite[['UF de residência', 'Total']]"
   ]
  },
  {
   "cell_type": "markdown",
   "metadata": {
    "hidden": true
   },
   "source": [
    "#### Renomeando coluna"
   ]
  },
  {
   "cell_type": "code",
   "execution_count": 682,
   "metadata": {
    "hidden": true
   },
   "outputs": [],
   "source": [
    "casos_hepatite.columns = ['Unidade da Federação', 'Total']"
   ]
  },
  {
   "cell_type": "markdown",
   "metadata": {
    "hidden": true
   },
   "source": [
    "#### Criação da coluna Regiao"
   ]
  },
  {
   "cell_type": "code",
   "execution_count": 683,
   "metadata": {
    "hidden": true
   },
   "outputs": [],
   "source": [
    "casos_hepatite.loc[casos_hepatite['Unidade da Federação'].str[0] == '1', 'Regiao'] = 'Norte'\n",
    "casos_hepatite.loc[casos_hepatite['Unidade da Federação'].str[0] == '2', 'Regiao'] = 'Nordeste'\n",
    "casos_hepatite.loc[casos_hepatite['Unidade da Federação'].str[0] == '3', 'Regiao'] = 'Sudeste'\n",
    "casos_hepatite.loc[casos_hepatite['Unidade da Federação'].str[0] == '4', 'Regiao'] = 'Sul'\n",
    "casos_hepatite.loc[casos_hepatite['Unidade da Federação'].str[0] == '5', 'Regiao'] = 'Centro-Oeste'"
   ]
  },
  {
   "cell_type": "markdown",
   "metadata": {
    "hidden": true
   },
   "source": [
    "#### Alteração dos nomes dos estados"
   ]
  },
  {
   "cell_type": "code",
   "execution_count": 684,
   "metadata": {
    "hidden": true
   },
   "outputs": [],
   "source": [
    "casos_hepatite['Unidade da Federação'][casos_hepatite['Unidade da Federação'] != 'Total'] = casos_hepatite['Unidade da Federação'].str[3:]"
   ]
  },
  {
   "cell_type": "markdown",
   "metadata": {
    "hidden": true
   },
   "source": [
    "#### Alteração do índice"
   ]
  },
  {
   "cell_type": "code",
   "execution_count": 685,
   "metadata": {
    "hidden": true
   },
   "outputs": [],
   "source": [
    "casos_hepatite.set_index('Unidade da Federação', inplace = True)"
   ]
  },
  {
   "cell_type": "code",
   "execution_count": 686,
   "metadata": {
    "hidden": true
   },
   "outputs": [
    {
     "data": {
      "text/html": [
       "<div>\n",
       "<style scoped>\n",
       "    .dataframe tbody tr th:only-of-type {\n",
       "        vertical-align: middle;\n",
       "    }\n",
       "\n",
       "    .dataframe tbody tr th {\n",
       "        vertical-align: top;\n",
       "    }\n",
       "\n",
       "    .dataframe thead th {\n",
       "        text-align: right;\n",
       "    }\n",
       "</style>\n",
       "<table border=\"1\" class=\"dataframe\">\n",
       "  <thead>\n",
       "    <tr style=\"text-align: right;\">\n",
       "      <th></th>\n",
       "      <th>Total</th>\n",
       "      <th>Regiao</th>\n",
       "    </tr>\n",
       "    <tr>\n",
       "      <th>Unidade da Federação</th>\n",
       "      <th></th>\n",
       "      <th></th>\n",
       "    </tr>\n",
       "  </thead>\n",
       "  <tbody>\n",
       "    <tr>\n",
       "      <th>Rondônia</th>\n",
       "      <td>780</td>\n",
       "      <td>Norte</td>\n",
       "    </tr>\n",
       "    <tr>\n",
       "      <th>Acre</th>\n",
       "      <td>594</td>\n",
       "      <td>Norte</td>\n",
       "    </tr>\n",
       "    <tr>\n",
       "      <th>Amazonas</th>\n",
       "      <td>1114</td>\n",
       "      <td>Norte</td>\n",
       "    </tr>\n",
       "    <tr>\n",
       "      <th>Roraima</th>\n",
       "      <td>177</td>\n",
       "      <td>Norte</td>\n",
       "    </tr>\n",
       "    <tr>\n",
       "      <th>Pará</th>\n",
       "      <td>623</td>\n",
       "      <td>Norte</td>\n",
       "    </tr>\n",
       "  </tbody>\n",
       "</table>\n",
       "</div>"
      ],
      "text/plain": [
       "                      Total Regiao\n",
       "Unidade da Federação              \n",
       "Rondônia                780  Norte\n",
       "Acre                    594  Norte\n",
       "Amazonas               1114  Norte\n",
       "Roraima                 177  Norte\n",
       "Pará                    623  Norte"
      ]
     },
     "execution_count": 686,
     "metadata": {},
     "output_type": "execute_result"
    }
   ],
   "source": [
    "casos_hepatite.head()"
   ]
  },
  {
   "cell_type": "markdown",
   "metadata": {
    "hidden": true
   },
   "source": [
    "### 2.3.3 - Dataset populacao"
   ]
  },
  {
   "cell_type": "markdown",
   "metadata": {
    "hidden": true
   },
   "source": [
    "#### Alteração dos nomes das colunas"
   ]
  },
  {
   "cell_type": "code",
   "execution_count": 687,
   "metadata": {
    "hidden": true
   },
   "outputs": [],
   "source": [
    "populacao.columns = ['brasil e uf', 'populacao']"
   ]
  },
  {
   "cell_type": "code",
   "execution_count": 688,
   "metadata": {
    "hidden": true
   },
   "outputs": [
    {
     "data": {
      "text/html": [
       "<div>\n",
       "<style scoped>\n",
       "    .dataframe tbody tr th:only-of-type {\n",
       "        vertical-align: middle;\n",
       "    }\n",
       "\n",
       "    .dataframe tbody tr th {\n",
       "        vertical-align: top;\n",
       "    }\n",
       "\n",
       "    .dataframe thead th {\n",
       "        text-align: right;\n",
       "    }\n",
       "</style>\n",
       "<table border=\"1\" class=\"dataframe\">\n",
       "  <thead>\n",
       "    <tr style=\"text-align: right;\">\n",
       "      <th></th>\n",
       "      <th>brasil e uf</th>\n",
       "      <th>populacao</th>\n",
       "    </tr>\n",
       "  </thead>\n",
       "  <tbody>\n",
       "    <tr>\n",
       "      <th>1</th>\n",
       "      <td>Região Norte</td>\n",
       "      <td>18182253</td>\n",
       "    </tr>\n",
       "    <tr>\n",
       "      <th>9</th>\n",
       "      <td>Região Nordeste</td>\n",
       "      <td>56760780</td>\n",
       "    </tr>\n",
       "    <tr>\n",
       "      <th>19</th>\n",
       "      <td>Região Sudeste</td>\n",
       "      <td>87711946</td>\n",
       "    </tr>\n",
       "    <tr>\n",
       "      <th>24</th>\n",
       "      <td>Região Sul</td>\n",
       "      <td>29754036</td>\n",
       "    </tr>\n",
       "    <tr>\n",
       "      <th>28</th>\n",
       "      <td>Região Centro-Oeste</td>\n",
       "      <td>16085885</td>\n",
       "    </tr>\n",
       "  </tbody>\n",
       "</table>\n",
       "</div>"
      ],
      "text/plain": [
       "            brasil e uf populacao\n",
       "1          Região Norte  18182253\n",
       "9       Região Nordeste  56760780\n",
       "19       Região Sudeste  87711946\n",
       "24           Região Sul  29754036\n",
       "28  Região Centro-Oeste  16085885"
      ]
     },
     "execution_count": 688,
     "metadata": {},
     "output_type": "execute_result"
    }
   ],
   "source": [
    "# verificando se as 5 regiões estão no dataset\n",
    "populacao[populacao['brasil e uf'].str[:6] == 'Região']"
   ]
  },
  {
   "cell_type": "code",
   "execution_count": 689,
   "metadata": {
    "hidden": true
   },
   "outputs": [
    {
     "data": {
      "text/plain": [
       "0           208494900\n",
       "1            18182253\n",
       "2             1757589\n",
       "3              869265\n",
       "4             4080611\n",
       "5              576568\n",
       "6             8513497\n",
       "7              829494\n",
       "8             1555229\n",
       "9            56760780\n",
       "10            7035055\n",
       "11      3.264.531 (*)\n",
       "12      9.075.649 (*)\n",
       "13            3479010\n",
       "14            3996496\n",
       "15     9.496.294 (**)\n",
       "16     3.322.820 (**)\n",
       "17            2278308\n",
       "18           14812617\n",
       "19           87711946\n",
       "20           21040662\n",
       "21            3972388\n",
       "22           17159960\n",
       "23           45538936\n",
       "24           29754036\n",
       "25           11348937\n",
       "26            7075494\n",
       "27           11329605\n",
       "28           16085885\n",
       "29            2748023\n",
       "30            3441998\n",
       "31    6.921.161 (***)\n",
       "32    2.974.703 (***)\n",
       "Name: populacao, dtype: object"
      ]
     },
     "execution_count": 689,
     "metadata": {},
     "output_type": "execute_result"
    }
   ],
   "source": [
    "# há valores que possuem parênteses e asterisco(s). Devemos retirá-los\n",
    "populacao['populacao']"
   ]
  },
  {
   "cell_type": "code",
   "execution_count": 690,
   "metadata": {
    "hidden": true
   },
   "outputs": [],
   "source": [
    "retira_asteriscos_e_pontos(populacao, 'populacao')"
   ]
  },
  {
   "cell_type": "code",
   "execution_count": 691,
   "metadata": {
    "hidden": true
   },
   "outputs": [
    {
     "data": {
      "text/plain": [
       "0     208494900\n",
       "1      18182253\n",
       "2       1757589\n",
       "3        869265\n",
       "4       4080611\n",
       "5        576568\n",
       "6       8513497\n",
       "7        829494\n",
       "8       1555229\n",
       "9      56760780\n",
       "10      7035055\n",
       "11      3264531\n",
       "12      9075649\n",
       "13      3479010\n",
       "14      3996496\n",
       "15      9496294\n",
       "16      3322820\n",
       "17      2278308\n",
       "18     14812617\n",
       "19     87711946\n",
       "20     21040662\n",
       "21      3972388\n",
       "22     17159960\n",
       "23     45538936\n",
       "24     29754036\n",
       "25     11348937\n",
       "26      7075494\n",
       "27     11329605\n",
       "28     16085885\n",
       "29      2748023\n",
       "30      3441998\n",
       "31      6921161\n",
       "32      2974703\n",
       "Name: populacao, dtype: object"
      ]
     },
     "execution_count": 691,
     "metadata": {},
     "output_type": "execute_result"
    }
   ],
   "source": [
    "populacao['populacao']"
   ]
  },
  {
   "cell_type": "markdown",
   "metadata": {
    "hidden": true
   },
   "source": [
    "#### Alteração dos tipos de dados"
   ]
  },
  {
   "cell_type": "code",
   "execution_count": 774,
   "metadata": {
    "hidden": true
   },
   "outputs": [
    {
     "data": {
      "text/plain": [
       "brasil e uf    object\n",
       "populacao      object\n",
       "dtype: object"
      ]
     },
     "execution_count": 774,
     "metadata": {},
     "output_type": "execute_result"
    }
   ],
   "source": [
    "populacao.dtypes"
   ]
  },
  {
   "cell_type": "code",
   "execution_count": 775,
   "metadata": {
    "hidden": true
   },
   "outputs": [],
   "source": [
    "populacao['populacao'] = populacao['populacao'].astype('int64')"
   ]
  },
  {
   "cell_type": "code",
   "execution_count": 776,
   "metadata": {
    "hidden": true
   },
   "outputs": [
    {
     "data": {
      "text/plain": [
       "brasil e uf    object\n",
       "populacao       int64\n",
       "dtype: object"
      ]
     },
     "execution_count": 776,
     "metadata": {},
     "output_type": "execute_result"
    }
   ],
   "source": [
    "populacao.dtypes"
   ]
  },
  {
   "cell_type": "markdown",
   "metadata": {
    "hidden": true
   },
   "source": [
    "### 2.3.4 - Dataset hepatite"
   ]
  },
  {
   "cell_type": "code",
   "execution_count": 692,
   "metadata": {
    "hidden": true
   },
   "outputs": [],
   "source": [
    "# esse dataset vai juntar os dados de vacinações de hepatites virais (tipos A e B) em 2018\n",
    "# com os dados de casos, também de hepatites virais, notificados por UF de residência em 2018"
   ]
  },
  {
   "cell_type": "markdown",
   "metadata": {
    "hidden": true
   },
   "source": [
    "#### 2.4.1 - Criação do dataset"
   ]
  },
  {
   "cell_type": "code",
   "execution_count": 747,
   "metadata": {
    "hidden": true
   },
   "outputs": [],
   "source": [
    "hepatite = pd.DataFrame([vacinas['Hepatite B'], vacinas['Hepatite A'], casos_hepatite['Total']],\n",
    "                       index = ['vacinas hepatite B', 'vacinas hepatite A', 'casos hepatite'])"
   ]
  },
  {
   "cell_type": "code",
   "execution_count": 748,
   "metadata": {
    "hidden": true
   },
   "outputs": [],
   "source": [
    "hepatite = hepatite.T"
   ]
  },
  {
   "cell_type": "markdown",
   "metadata": {
    "hidden": true
   },
   "source": [
    "#### 2.4.2 - Coluna total de vacinas (A + B)"
   ]
  },
  {
   "cell_type": "code",
   "execution_count": 749,
   "metadata": {
    "hidden": true
   },
   "outputs": [],
   "source": [
    "hepatite['total de vacinas'] = hepatite['vacinas hepatite B'] + hepatite['vacinas hepatite A']"
   ]
  },
  {
   "cell_type": "markdown",
   "metadata": {
    "hidden": true
   },
   "source": [
    "#### 2.4.3 - Criação da coluna região"
   ]
  },
  {
   "cell_type": "code",
   "execution_count": 750,
   "metadata": {
    "hidden": true
   },
   "outputs": [],
   "source": [
    "hepatite['regiao'] = np.nan"
   ]
  },
  {
   "cell_type": "code",
   "execution_count": 751,
   "metadata": {
    "hidden": true
   },
   "outputs": [],
   "source": [
    "hepatite['regiao'][:7] = 'Norte'\n",
    "hepatite['regiao'][7:16] = 'Nordeste'\n",
    "hepatite['regiao'][16:20] = 'Sudeste'\n",
    "hepatite['regiao'][20:23] = 'Sul'\n",
    "hepatite['regiao'][23:27] = 'Centro-Oeste'"
   ]
  },
  {
   "cell_type": "markdown",
   "metadata": {
    "hidden": true
   },
   "source": [
    "#### 2.4.4 - Alteração da ordem das colunas"
   ]
  },
  {
   "cell_type": "code",
   "execution_count": 754,
   "metadata": {
    "hidden": true
   },
   "outputs": [],
   "source": [
    "hepatite = hepatite[['regiao', 'casos hepatite', 'vacinas hepatite B', 'vacinas hepatite A', \n",
    "                     'total de vacinas']]"
   ]
  },
  {
   "cell_type": "markdown",
   "metadata": {
    "heading_collapsed": true
   },
   "source": [
    "# 3.0 - ANÁLISE EXPLORATÓRIA"
   ]
  },
  {
   "cell_type": "markdown",
   "metadata": {
    "hidden": true
   },
   "source": [
    "___________________________________________________________________________________________________"
   ]
  },
  {
   "cell_type": "markdown",
   "metadata": {
    "hidden": true
   },
   "source": [
    "**Agora vamos analisar um pouco dos nossos dados através dos gráficos disponíveis.**"
   ]
  },
  {
   "cell_type": "markdown",
   "metadata": {
    "hidden": true
   },
   "source": [
    "____"
   ]
  },
  {
   "cell_type": "markdown",
   "metadata": {
    "hidden": true
   },
   "source": [
    "#### Quantidade total de vacinas aplicadas em cada estado"
   ]
  },
  {
   "cell_type": "code",
   "execution_count": 696,
   "metadata": {
    "hidden": true
   },
   "outputs": [
    {
     "data": {
      "image/png": "[encoded data removed]",
      "text/plain": [
       "<Figure size 648x360 with 1 Axes>"
      ]
     },
     "metadata": {
      "needs_background": "light"
     },
     "output_type": "display_data"
    }
   ],
   "source": [
    "total_estado = vacinas.Total[:27]\n",
    "total_estado.sort_values(ascending = False, inplace = True)\n",
    "\n",
    "plt.figure(figsize = (9,5))\n",
    "plt.suptitle('Quantidade total de vacinas aplicadas em cada estado', fontsize = 25, y = 1.01)\n",
    "plt.title('2018', fontsize = 16)\n",
    "ax = sns.barplot(x = total_estado.values, y = total_estado.index, orient = 'h')\n",
    "ax.xaxis.set_major_formatter(ticker.StrMethodFormatter('{x:,.2f}'))\n",
    "plt.xlabel('Quantidade', fontsize = 18)\n",
    "plt.ylabel('')\n",
    "plt.xticks(rotation = 30)\n",
    "plt.grid()\n",
    "plt.show()"
   ]
  },
  {
   "cell_type": "markdown",
   "metadata": {
    "hidden": true
   },
   "source": [
    "#### Quantidade total de aplicações de cada vacina no país"
   ]
  },
  {
   "cell_type": "code",
   "execution_count": 697,
   "metadata": {
    "hidden": true
   },
   "outputs": [
    {
     "data": {
      "image/png": "[encoded data removed]",
      "text/plain": [
       "<Figure size 648x360 with 1 Axes>"
      ]
     },
     "metadata": {
      "needs_background": "light"
     },
     "output_type": "display_data"
    }
   ],
   "source": [
    "colunas = vacinas.drop(['Total', 'Regiao'], axis = 1).columns\n",
    "totais = vacinas.loc['Total', colunas]\n",
    "totais.sort_values(ascending = False, inplace = True)\n",
    "\n",
    "plt.figure(figsize = (9,5))\n",
    "plt.title('Quantidade, por vacina, aplicada no Brasil em 2018', fontsize = 25, y = 1.1)\n",
    "ax = sns.barplot(x =  totais.sort_values(ascending = False), \n",
    "            y = totais.index, orient = 'h') \n",
    "plt.xlabel('Quantidade', fontsize = 18)\n",
    "plt.xticks(rotation = 30)\n",
    "plt.grid()\n",
    "plt.show()"
   ]
  },
  {
   "cell_type": "markdown",
   "metadata": {
    "hidden": true
   },
   "source": [
    "#### Quantidade de vacinas aplicadas em cada região do país"
   ]
  },
  {
   "cell_type": "code",
   "execution_count": 698,
   "metadata": {
    "hidden": true
   },
   "outputs": [],
   "source": [
    "# vamos, primeiramente, separar a soma de vacinas aplicadas em cada região\n",
    "total_norte = vacinas['Total'][vacinas['Regiao'] == 'Norte'].sum()\n",
    "total_nordeste = vacinas['Total'][vacinas['Regiao'] == 'Nordeste'].sum()\n",
    "total_sudeste = vacinas['Total'][vacinas['Regiao'] == 'Sudeste'].sum()\n",
    "total_sul = vacinas['Total'][vacinas['Regiao'] == 'Sul'].sum()\n",
    "total_centro_oeste = vacinas['Total'][vacinas['Regiao'] == 'Centro-Oeste'].sum()\n",
    "\n",
    "por_regiao = pd.DataFrame([total_norte, total_nordeste, total_sudeste, total_sul, total_centro_oeste],\n",
    "                         index=['norte', 'nordeste', 'sudeste', 'sul', 'centro-oeste'],\n",
    "                         columns= ['total'])\n",
    "\n",
    "por_regiao.sort_values(by = 'total', ascending = False, inplace = True)"
   ]
  },
  {
   "cell_type": "code",
   "execution_count": 699,
   "metadata": {
    "hidden": true
   },
   "outputs": [
    {
     "data": {
      "image/png": "[encoded data removed]",
      "text/plain": [
       "<Figure size 648x360 with 1 Axes>"
      ]
     },
     "metadata": {
      "needs_background": "light"
     },
     "output_type": "display_data"
    }
   ],
   "source": [
    "total_estado = vacinas.Total[:27]\n",
    "total_estado.sort_values(ascending = False, inplace = True)\n",
    "\n",
    "plt.figure(figsize = (9,5))\n",
    "plt.suptitle('Quantidade total de vacinas aplicadas em cada região', fontsize = 25, y = 1.01)\n",
    "plt.title('2018', fontsize = 16)\n",
    "ax = sns.barplot(x = por_regiao.index, y = por_regiao.total)\n",
    "ax.yaxis.set_major_formatter(ticker.StrMethodFormatter('{x:,.2f}'))\n",
    "plt.ylabel('')\n",
    "plt.xticks(rotation = 30)\n",
    "plt.grid()\n",
    "plt.show()"
   ]
  },
  {
   "cell_type": "markdown",
   "metadata": {
    "hidden": true
   },
   "source": [
    "#### Vacinas mais aplicadas em São Paulo"
   ]
  },
  {
   "cell_type": "code",
   "execution_count": 700,
   "metadata": {
    "hidden": true
   },
   "outputs": [
    {
     "data": {
      "image/png": "[encoded data removed]",
      "text/plain": [
       "<Figure size 648x360 with 1 Axes>"
      ]
     },
     "metadata": {
      "needs_background": "light"
     },
     "output_type": "display_data"
    }
   ],
   "source": [
    "sao_paulo = vacinas.drop(['Total', 'Regiao'], axis = 1).loc['São Paulo']\n",
    "sao_paulo.sort_values(ascending = False, inplace = True)\n",
    "\n",
    "plt.figure(figsize = (9,5))\n",
    "plt.suptitle('Quantidade total de vacinas aplicadas em São Paulo', fontsize = 25, y = 1.01)\n",
    "plt.title('2018', fontsize = 16)\n",
    "sns.barplot(x = sao_paulo.values, y = sao_paulo.index,\n",
    "           orient = 'h')\n",
    "ax.xaxis.set_major_formatter(ticker.StrMethodFormatter('{x:,.2f}'))\n",
    "plt.ylabel('')\n",
    "plt.xticks(rotation = 30)\n",
    "plt.grid()\n",
    "plt.show()"
   ]
  },
  {
   "cell_type": "markdown",
   "metadata": {
    "hidden": true
   },
   "source": [
    "#### Número de casos de hepatites virais no Brasil em 2018, por estado"
   ]
  },
  {
   "cell_type": "code",
   "execution_count": 701,
   "metadata": {
    "hidden": true
   },
   "outputs": [
    {
     "data": {
      "image/png": "[encoded data removed]",
      "text/plain": [
       "<Figure size 648x432 with 1 Axes>"
      ]
     },
     "metadata": {
      "needs_background": "light"
     },
     "output_type": "display_data"
    }
   ],
   "source": [
    "casos_hepatite_ordenado = casos_hepatite.loc[casos_hepatite.index != 'Total']\n",
    "casos_hepatite_ordenado.sort_values(by = 'Total', ascending = False, inplace = True)\n",
    "casos_hepatite_ordenado\n",
    "\n",
    "plt.figure(figsize = (9,6))\n",
    "plt.suptitle('Número de casos de hepatites virais no Brasil, por estado', fontsize = 25, y = 1.01)\n",
    "plt.title('2018', fontsize = 16)\n",
    "ax = sns.barplot(x = casos_hepatite_ordenado['Total'],\n",
    "                y = casos_hepatite_ordenado.index)\n",
    "ax.xaxis.set_major_formatter(ticker.StrMethodFormatter('{x:,.2f}'))\n",
    "plt.ylabel('')\n",
    "plt.xticks(rotation = 30)\n",
    "plt.grid()\n",
    "plt.show()"
   ]
  },
  {
   "cell_type": "markdown",
   "metadata": {
    "heading_collapsed": true
   },
   "source": [
    "# 4.0 - HEPATITE - HIPÓTESES"
   ]
  },
  {
   "cell_type": "markdown",
   "metadata": {
    "hidden": true
   },
   "source": [
    "### HIPÓTESE: regiões com menor número de vacinas de hepatite por habitante tiveram maiores números de casos da doença"
   ]
  },
  {
   "cell_type": "markdown",
   "metadata": {
    "hidden": true
   },
   "source": [
    "#### Número de vacinas de hepatite (A e B) por habitante de cada região"
   ]
  },
  {
   "cell_type": "code",
   "execution_count": 800,
   "metadata": {
    "hidden": true
   },
   "outputs": [
    {
     "data": {
      "text/html": [
       "<div>\n",
       "<style scoped>\n",
       "    .dataframe tbody tr th:only-of-type {\n",
       "        vertical-align: middle;\n",
       "    }\n",
       "\n",
       "    .dataframe tbody tr th {\n",
       "        vertical-align: top;\n",
       "    }\n",
       "\n",
       "    .dataframe thead th {\n",
       "        text-align: right;\n",
       "    }\n",
       "</style>\n",
       "<table border=\"1\" class=\"dataframe\">\n",
       "  <thead>\n",
       "    <tr style=\"text-align: right;\">\n",
       "      <th></th>\n",
       "      <th>vacina por habitante</th>\n",
       "    </tr>\n",
       "  </thead>\n",
       "  <tbody>\n",
       "    <tr>\n",
       "      <th>centro-oeste</th>\n",
       "      <td>0.025645</td>\n",
       "    </tr>\n",
       "    <tr>\n",
       "      <th>norte</th>\n",
       "      <td>0.024514</td>\n",
       "    </tr>\n",
       "    <tr>\n",
       "      <th>nordeste</th>\n",
       "      <td>0.024049</td>\n",
       "    </tr>\n",
       "    <tr>\n",
       "      <th>sul</th>\n",
       "      <td>0.024024</td>\n",
       "    </tr>\n",
       "    <tr>\n",
       "      <th>sudeste</th>\n",
       "      <td>0.023473</td>\n",
       "    </tr>\n",
       "  </tbody>\n",
       "</table>\n",
       "</div>"
      ],
      "text/plain": [
       "              vacina por habitante\n",
       "centro-oeste              0.025645\n",
       "norte                     0.024514\n",
       "nordeste                  0.024049\n",
       "sul                       0.024024\n",
       "sudeste                   0.023473"
      ]
     },
     "execution_count": 800,
     "metadata": {},
     "output_type": "execute_result"
    }
   ],
   "source": [
    "vacinas_por_habitante_norte = hepatite['total de vacinas'][hepatite['regiao'] == 'Norte'].sum() / populacao['populacao'][populacao['brasil e uf'] == 'Região Norte']\n",
    "vacinas_por_habitante_nordeste = hepatite['total de vacinas'][hepatite['regiao'] == 'Nordeste'].sum() / populacao['populacao'][populacao['brasil e uf'] == 'Região Nordeste']\n",
    "vacinas_por_habitante_sudeste = hepatite['total de vacinas'][hepatite['regiao'] == 'Sudeste'].sum() / populacao['populacao'][populacao['brasil e uf'] == 'Região Sudeste']\n",
    "vacinas_por_habitante_sul = hepatite['total de vacinas'][hepatite['regiao'] == 'Sul'].sum() / populacao['populacao'][populacao['brasil e uf'] == 'Região Sul']\n",
    "vacinas_por_habitante_centro_oeste = hepatite['total de vacinas'][hepatite['regiao'] == 'Centro-Oeste'].sum() / populacao['populacao'][populacao['brasil e uf'] == 'Região Centro-Oeste']\n",
    "\n",
    "vacinas_por_habitante = pd.DataFrame([vacinas_por_habitante_norte.values, \n",
    "                                   vacinas_por_habitante_nordeste.values,\n",
    "                                   vacinas_por_habitante_sudeste.values, \n",
    "                                   vacinas_por_habitante_sul.values,\n",
    "                                   vacinas_por_habitante_centro_oeste.values],\n",
    "                                  index = ['norte', 'nordeste', 'sudeste', 'sul', 'centro-oeste'],\n",
    "                                  columns = ['vacina por habitante']).sort_values(by = 'vacina por habitante',\n",
    "                                                                                    ascending = False)\n",
    "vacinas_por_habitante"
   ]
  },
  {
   "cell_type": "markdown",
   "metadata": {
    "hidden": true
   },
   "source": [
    "Podemos perceber, de início, que a quantidade de vacinas de hepatite por habitante é praticamente igual em cada uma das regiões do Brasil."
   ]
  },
  {
   "cell_type": "markdown",
   "metadata": {
    "hidden": true
   },
   "source": [
    "#### Número total de casos de hepatite por região"
   ]
  },
  {
   "cell_type": "code",
   "execution_count": 832,
   "metadata": {
    "hidden": true
   },
   "outputs": [],
   "source": [
    "casos_hepatite_por_habitante_norte = hepatite['casos hepatite'][hepatite['regiao'] == 'Norte'].sum() / populacao['populacao'][populacao['brasil e uf'] == 'Região Norte']\n",
    "casos_hepatite_por_habitante_nordeste = hepatite['casos hepatite'][hepatite['regiao'] == 'Nordeste'].sum() / populacao['populacao'][populacao['brasil e uf'] == 'Região Nordeste']\n",
    "casos_hepatite_por_habitante_sudeste = hepatite['casos hepatite'][hepatite['regiao'] == 'Sudeste'].sum() / populacao['populacao'][populacao['brasil e uf'] == 'Região Sudeste']\n",
    "casos_hepatite_por_habitante_sul = hepatite['casos hepatite'][hepatite['regiao'] == 'Sul'].sum() / populacao['populacao'][populacao['brasil e uf'] == 'Região Sul']\n",
    "casos_hepatite_por_habitante_centro_oeste = hepatite['casos hepatite'][hepatite['regiao'] == 'Centro-Oeste'].sum() / populacao['populacao'][populacao['brasil e uf'] == 'Região Centro-Oeste']\n",
    "\n",
    "casos_hepatite_por_regiao_e_habitante = pd.DataFrame([casos_hepatite_por_habitante_norte.values, \n",
    "                                   casos_hepatite_por_habitante_nordeste.values,\n",
    "                                   casos_hepatite_por_habitante_sudeste.values, \n",
    "                                   casos_hepatite_por_habitante_sul.values,\n",
    "                                   casos_hepatite_por_habitante_centro_oeste.values],\n",
    "                                  index = ['norte', 'nordeste', 'sudeste', 'sul', 'centro-oeste'],\n",
    "                                  columns = ['casos na regiao']).sort_values(by = 'casos na regiao',\n",
    "                                                                                    ascending = False)"
   ]
  },
  {
   "cell_type": "code",
   "execution_count": 862,
   "metadata": {
    "hidden": true
   },
   "outputs": [
    {
     "data": {
      "image/png": "[encoded data removed]",
      "text/plain": [
       "<Figure size 1008x432 with 2 Axes>"
      ]
     },
     "metadata": {
      "needs_background": "light"
     },
     "output_type": "display_data"
    }
   ],
   "source": [
    "plt.figure(figsize = (14,6))\n",
    "\n",
    "plt.subplot(1,2,1)\n",
    "plt.title('Vacinas de hepatite por habitante em cada região', fontsize = 16, y = 1.1)\n",
    "ax = sns.barplot(x = vacinas_por_habitante.index,\n",
    "                y = vacinas_por_habitante['vacina por habitante'], palette = 'tab10')\n",
    "plt.ylabel('')\n",
    "plt.xticks(rotation = 30)\n",
    "plt.grid()\n",
    "\n",
    "plt.subplot(1,2,2)\n",
    "plt.title('Casos de hepatite por habitante em cada região', fontsize = 16, y = 1.1)\n",
    "ax = sns.barplot(x = casos_hepatite_por_regiao_e_habitante.index,\n",
    "                y = casos_hepatite_por_regiao_e_habitante['casos na regiao'], palette = 'tab10')\n",
    "plt.ylabel('')\n",
    "plt.xticks(rotation = 30)\n",
    "plt.grid()\n",
    "\n",
    "plt.show()"
   ]
  },
  {
   "cell_type": "markdown",
   "metadata": {
    "hidden": true
   },
   "source": [
    "##### Ao que parece, o número de vacinas por habitante não foi fator determinante para o número de casos de hepatites virais em cada uma das regiões do país. Temos, inclusive, uma diferença quase que imperceptível entre o número de vacinas por habitante em cada região.\n",
    "##### Observando que a região Centro-Oeste foi a região que aplicou a maior quantidade de vacinas contra hepatites virais (mesmo com tão pouca diferença), poderíamos pensar que esse número está diretamente ligado ao fato de a mesma região ser apenas a penúltima no número de casos por habitante. Contudo, podemos observar, por exemplo, a região Norte, que obteve em 2018 o segundo maior número de vacinas por habitante e o segundo maior número de casos de hepatite por habitante, no mesmo ano.\n",
    "#### **Conclusão**: Não há como afirmar que o número de vacinas de hepatites virais por habitante, em cada região, em 2018, foi determinante para um menor número de casos de hepatites virais, em cada região, em 2018. Pode haver outros fatores diretamente ligados ao número de casos em cada regiao, como disseminação de informações sobre como evitar as doenças, investimentos em saneamento básico, etc."
   ]
  },
  {
   "cell_type": "code",
   "execution_count": null,
   "metadata": {
    "hidden": true
   },
   "outputs": [],
   "source": []
  }
 ],
 "metadata": {
  "kernelspec": {
   "display_name": "Python 3",
   "language": "python",
   "name": "python3"
  },
  "language_info": {
   "codemirror_mode": {
    "name": "ipython",
    "version": 3
   },
   "file_extension": ".py",
   "mimetype": "text/x-python",
   "name": "python",
   "nbconvert_exporter": "python",
   "pygments_lexer": "ipython3",
   "version": "3.8.5"
  }
 },
 "nbformat": 4,
 "nbformat_minor": 2
}
